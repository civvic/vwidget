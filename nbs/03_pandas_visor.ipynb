{
 "cells": [
  {
   "cell_type": "code",
   "execution_count": null,
   "id": "524c1d18-59e1-4b01-a22d-735400a6e7e7",
   "metadata": {},
   "outputs": [],
   "source": [
    "#| export\n",
    "from __future__ import annotations"
   ]
  },
  {
   "cell_type": "code",
   "execution_count": null,
   "id": "b59e6a72-e6df-4478-974e-ba65f184446f",
   "metadata": {},
   "outputs": [],
   "source": [
    "#| default_exp pandas_visor"
   ]
  },
  {
   "cell_type": "code",
   "execution_count": null,
   "id": "be0ab2cc",
   "metadata": {},
   "outputs": [],
   "source": [
    "# %reload_ext autoreload\n",
    "# %autoreload 0"
   ]
  },
  {
   "attachments": {},
   "cell_type": "markdown",
   "id": "592d631f-037f-4580-bcb9-78393b1d5f97",
   "metadata": {},
   "source": [
    "# Pandas Visor\n",
    "> Simple dataframe widget"
   ]
  },
  {
   "cell_type": "markdown",
   "id": "cdbd7046",
   "metadata": {},
   "source": [
    "## Preamble -"
   ]
  },
  {
   "cell_type": "code",
   "execution_count": null,
   "id": "2f237f6d",
   "metadata": {},
   "outputs": [],
   "source": [
    "#| export\n",
    "import asyncio\n",
    "import math\n",
    "from types import SimpleNamespace as NS\n",
    "from typing import cast\n",
    "\n",
    "import ipywidgets as W\n",
    "import numpy as np\n",
    "import pandas as pd\n",
    "from pandas.io.formats.style import Styler\n",
    "\n",
    "from vutil.imports import AD\n",
    "from vutil.pandas.transformer import DataFrameStyler\n",
    "from vutil.pandas.util import FTStyler\n",
    "from vutil.pandas.util import PANDAS\n",
    "from vwidget.base_widget import BaseExplorerApp\n"
   ]
  },
  {
   "cell_type": "code",
   "execution_count": null,
   "id": "670111db",
   "metadata": {},
   "outputs": [],
   "source": [
    "import anywidget\n",
    "import fastcore.all as F\n",
    "import traitlets\n",
    "from fastcore.test import *  # type: ignore\n",
    "from IPython.core.display import HTML\n",
    "\n",
    "from vutil.async_helper import wait_while\n",
    "from vutil.pandas.util import FTDataFrame\n",
    "from vwidget.base_widget import ReflectWidget\n",
    "from vwidget.base_widget import ThemerWidget\n"
   ]
  },
  {
   "attachments": {},
   "cell_type": "markdown",
   "id": "b416eb1a-c266-4edc-abfc-9ef8664ea42e",
   "metadata": {},
   "source": [
    " ----"
   ]
  },
  {
   "cell_type": "code",
   "execution_count": null,
   "id": "f259f200",
   "metadata": {},
   "outputs": [],
   "source": [
    "# if F.IN_IPYTHON:\n",
    "#     import nest_asyncio\n",
    "#     nest_asyncio.apply()"
   ]
  },
  {
   "cell_type": "code",
   "execution_count": null,
   "id": "15551d44",
   "metadata": {},
   "outputs": [],
   "source": [
    "#| exporti\n",
    "_STYLE = PANDAS.style\n",
    "\n",
    "config = NS(\n",
    "    PANDAS = PANDAS,\n",
    "    THEME = 'dark'\n",
    ")\n"
   ]
  },
  {
   "attachments": {},
   "cell_type": "markdown",
   "id": "77c8600c",
   "metadata": {},
   "source": [
    "avoid ipywidgets/anywidgets deprecation warning\n"
   ]
  },
  {
   "cell_type": "code",
   "execution_count": null,
   "id": "50b99ae1",
   "metadata": {},
   "outputs": [],
   "source": [
    "import warnings\n",
    "warnings.filterwarnings(\"ignore\", category=DeprecationWarning)\n",
    "warnings.filterwarnings('ignore')\n",
    "warnings.simplefilter('ignore')\n"
   ]
  },
  {
   "cell_type": "code",
   "execution_count": null,
   "id": "5b2db6ec",
   "metadata": {},
   "outputs": [
    {
     "data": {
      "application/vnd.jupyter.widget-view+json": {
       "model_id": "5225e65733dd4a89a1de1a215004cad6",
       "version_major": 2,
       "version_minor": 0
      },
      "text/plain": [
       "ThemerWidget()"
      ]
     },
     "execution_count": null,
     "metadata": {},
     "output_type": "execute_result"
    }
   ],
   "source": [
    "tw = ThemerWidget()\n",
    "tw"
   ]
  },
  {
   "attachments": {},
   "cell_type": "markdown",
   "id": "195d04bd",
   "metadata": {},
   "source": [
    " ----"
   ]
  },
  {
   "attachments": {},
   "cell_type": "markdown",
   "id": "66466b20",
   "metadata": {},
   "source": [
    "## DFVisor\n",
    "> Pandas visor"
   ]
  },
  {
   "cell_type": "code",
   "execution_count": null,
   "id": "dc4fc344",
   "metadata": {},
   "outputs": [
    {
     "name": "stdout",
     "output_type": "stream",
     "text": [
      "display.max_columns : int\n",
      "    If max_cols is exceeded, switch to truncate view. Depending on\n",
      "    `large_repr`, objects are either centrally truncated or printed as\n",
      "    a summary view. 'None' value means unlimited.\n",
      "\n",
      "    In case python/IPython is running in a terminal and `large_repr`\n",
      "    equals 'truncate' this can be set to 0 or None and pandas will auto-detect\n",
      "    the width of the terminal and print a truncated object which fits\n",
      "    the screen width. The IPython notebook, IPython qtconsole, or IDLE\n",
      "    do not run in a terminal and hence it is not possible to do\n",
      "    correct auto-detection and defaults to 20.\n",
      "    [default: 20] [currently: 20]\n"
     ]
    }
   ],
   "source": [
    "pd.describe_option('display.max_columns')\n",
    "pd.set_option(\"display.max_columns\", 60)"
   ]
  },
  {
   "cell_type": "code",
   "execution_count": null,
   "id": "3d58afc6",
   "metadata": {},
   "outputs": [],
   "source": [
    "datafile = {\n",
    "    \"filename\": [\"filename_01\", \"filename_02\"],\n",
    "    \"path\": [\n",
    "        \"volumes/data/media/user_name/storage/folder_01/filename_01\",\n",
    "        \"volumes/data/media/user_name/storage/folder_02/filename_02\",\n",
    "    ],\n",
    "}\n",
    "pd.set_option(\"display.max_colwidth\", 50)\n",
    "df0 = pd.DataFrame(datafile)\n",
    "df = FTDataFrame(datafile)\n"
   ]
  },
  {
   "cell_type": "code",
   "execution_count": null,
   "id": "11ac1585",
   "metadata": {},
   "outputs": [
    {
     "name": "stdout",
     "output_type": "stream",
     "text": [
      "<class 'pandas.io.formats.style.Styler'>\n"
     ]
    },
    {
     "data": {
      "text/plain": [
       "(True, False)"
      ]
     },
     "execution_count": null,
     "metadata": {},
     "output_type": "execute_result"
    }
   ],
   "source": [
    "print(type(df0.style))\n",
    "isinstance(df0.style, Styler), isinstance(df0.style, FTStyler)"
   ]
  },
  {
   "cell_type": "code",
   "execution_count": null,
   "id": "6946a64f",
   "metadata": {},
   "outputs": [
    {
     "name": "stdout",
     "output_type": "stream",
     "text": [
      "<class 'vutil.pandas.util.FTStyler'>\n"
     ]
    },
    {
     "data": {
      "text/plain": [
       "(True, True)"
      ]
     },
     "execution_count": null,
     "metadata": {},
     "output_type": "execute_result"
    }
   ],
   "source": [
    "print(type(df.style))\n",
    "isinstance(df.style, Styler), isinstance(df.style, FTStyler)"
   ]
  },
  {
   "cell_type": "code",
   "execution_count": null,
   "id": "ef42e1a2",
   "metadata": {},
   "outputs": [
    {
     "data": {
      "text/html": [
       "<div>\n",
       "<style scoped>\n",
       "    .dataframe tbody tr th:only-of-type {\n",
       "        vertical-align: middle;\n",
       "    }\n",
       "\n",
       "    .dataframe tbody tr th {\n",
       "        vertical-align: top;\n",
       "    }\n",
       "\n",
       "    .dataframe thead th {\n",
       "        text-align: right;\n",
       "    }\n",
       "</style>\n",
       "<table border=\"1\" class=\"dataframe\">\n",
       "  <thead>\n",
       "    <tr style=\"text-align: right;\">\n",
       "      <th></th>\n",
       "      <th>filename</th>\n",
       "      <th>path</th>\n",
       "    </tr>\n",
       "  </thead>\n",
       "  <tbody>\n",
       "    <tr>\n",
       "      <th>0</th>\n",
       "      <td>filename_01</td>\n",
       "      <td>volumes/data/media/user_na...</td>\n",
       "    </tr>\n",
       "    <tr>\n",
       "      <th>1</th>\n",
       "      <td>filename_02</td>\n",
       "      <td>volumes/data/media/user_na...</td>\n",
       "    </tr>\n",
       "  </tbody>\n",
       "</table>\n",
       "</div>"
      ],
      "text/plain": [
       "      filename                           path\n",
       "0  filename_01  volumes/data/media/user_na...\n",
       "1  filename_02  volumes/data/media/user_na..."
      ]
     },
     "execution_count": null,
     "metadata": {},
     "output_type": "execute_result"
    }
   ],
   "source": [
    "pd.set_option(\"display.max_colwidth\", 30)\n",
    "df\n"
   ]
  },
  {
   "cell_type": "code",
   "execution_count": null,
   "id": "6df2dcb2",
   "metadata": {},
   "outputs": [
    {
     "data": {
      "text/html": [
       "<div>\n",
       "<style scoped>\n",
       "    .dataframe tbody tr th:only-of-type {\n",
       "        vertical-align: middle;\n",
       "    }\n",
       "\n",
       "    .dataframe tbody tr th {\n",
       "        vertical-align: top;\n",
       "    }\n",
       "\n",
       "    .dataframe thead th {\n",
       "        text-align: right;\n",
       "    }\n",
       "</style>\n",
       "<table border=\"1\" class=\"dataframe\">\n",
       "  <thead>\n",
       "    <tr style=\"text-align: right;\">\n",
       "      <th></th>\n",
       "      <th>filename</th>\n",
       "      <th>path</th>\n",
       "    </tr>\n",
       "  </thead>\n",
       "  <tbody>\n",
       "    <tr>\n",
       "      <th>0</th>\n",
       "      <td>filename_01</td>\n",
       "      <td>volumes/data/media/user_name/storage/folder_01/filename_01</td>\n",
       "    </tr>\n",
       "    <tr>\n",
       "      <th>1</th>\n",
       "      <td>filename_02</td>\n",
       "      <td>volumes/data/media/user_name/storage/folder_02/filename_02</td>\n",
       "    </tr>\n",
       "  </tbody>\n",
       "</table>\n",
       "</div>"
      ],
      "text/plain": [
       "      filename                                                        path\n",
       "0  filename_01  volumes/data/media/user_name/storage/folder_01/filename_01\n",
       "1  filename_02  volumes/data/media/user_name/storage/folder_02/filename_02"
      ]
     },
     "execution_count": null,
     "metadata": {},
     "output_type": "execute_result"
    }
   ],
   "source": [
    "pd.set_option(\"display.max_colwidth\", 100)\n",
    "df\n"
   ]
  },
  {
   "cell_type": "code",
   "execution_count": null,
   "id": "05ed9d1a",
   "metadata": {},
   "outputs": [],
   "source": [
    "pd.set_option(\"display.max_colwidth\", 50)\n"
   ]
  },
  {
   "cell_type": "code",
   "execution_count": null,
   "id": "db6cc691",
   "metadata": {},
   "outputs": [],
   "source": [
    "# dft = DataFrameStyler({\n",
    "# # column_name  name        width  dtype                            transform  fmt              cell_style col_style\n",
    "#   'datetime': ('dt',       None,    'datetime64[ns, Europe/Madrid]', None,      date_fmt_simple, None,      'bold'),\n",
    "#   'order':    ('order_id', '100px', 'float',                         None,      '{:.4f}',        None,      'gray'),\n",
    "#   'price':    (None,       None,    None,                            round_up4, None,            None,      'mono9'),\n",
    "#   'total':    (None,       None,    None,                            None,      dot_align4,      neg_red,   'mono9, bold'),\n",
    "# })"
   ]
  },
  {
   "cell_type": "code",
   "execution_count": null,
   "id": "aee549fe",
   "metadata": {},
   "outputs": [],
   "source": [
    "#| export\n",
    "class DFVisor(BaseExplorerApp):\n",
    "    # ---------- ---------- display ---------- ----------\n",
    "    def d(self):\n",
    "        if self.df is not None:\n",
    "            self(self.df)\n",
    "\n",
    "    # ---------- ---------- UI view ---------- ----------\n",
    "    # def setup_layout(self):\n",
    "    #     center = W.Box(\n",
    "    #             [self._w.out],\n",
    "    #             layout=W.Layout(\n",
    "    #                 height=\"100%\", width='100%', margin='0px', border='0.1px solid red')\n",
    "    #         )\n",
    "    #     return dict(center=center)\n",
    "\n",
    "    # ---------- ---------- UX ---------- ----------\n",
    "    # def reflect_changed(self, change):\n",
    "    #     q = change.new\n",
    "    #     if 'result' in q:\n",
    "    #         h = f\"{math.ceil(q['result']['width'])}px\"\n",
    "    #         if self.dcons is not None:\n",
    "    #             self.dcons.log(f\"{h = }\")\n",
    "    #         self._w.out.layout.max_width = h\n",
    "\n",
    "    # def setup_ux(self, state):\n",
    "    #     super().setup_ux(state)\n",
    "    #     self.reflect.observe(self.reflect_changed, names='query')  # type: ignore\n",
    "\n",
    "    def __init__(self, \n",
    "            df: pd.DataFrame | Styler | None = None, \n",
    "            height=300, \n",
    "            # width: int | None = 1000,\n",
    "            **kwargs\n",
    "        ):\n",
    "            self.df = df\n",
    "            self.stlr: DataFrameStyler = kwargs.pop(\n",
    "                'stlr', DataFrameStyler(table_styles=PANDAS.style.default_table_style))\n",
    "            reflect = kwargs.pop('reflect', True)\n",
    "            super().__init__(widgets = AD(out=W.Output()),\n",
    "                layout=AD(max_height=f\"{height+20}px\"), reflect=reflect, **kwargs)\n",
    "\n",
    "    def __call__(self, df: pd.DataFrame | Styler):\n",
    "        self._w.out.clear_output()\n",
    "        if isinstance(df, Styler):\n",
    "            self.stl = df\n",
    "        else:\n",
    "            stlr = self.stlr.on(df)\n",
    "            widths = stlr.get_col_widths(df)\n",
    "            w = sum(widths.values())\n",
    "            self._w.out.layout.width = f\"{w * 0.75}ch\"  # type: ignore\n",
    "            self.stl = stlr()\n",
    "\n",
    "            def _f2(w):\n",
    "                assert self.reflect is not None\n",
    "                q: dict = cast(dict, self.reflect.query)\n",
    "                if 'result' in q:\n",
    "                    width = f\"{math.ceil(q['result']['width'])}px\"\n",
    "                    if self.dcons is not None:\n",
    "                        self.dcons.log(f\"{width = }\")\n",
    "                    self._w.out.layout.width = width\n",
    "                    \n",
    "            def _show():\n",
    "                assert self.reflect is not None\n",
    "                # self._r.query = {'sn':347, \n",
    "                #     'id':f\"T_{self.stl.uuid}\", 'kind':'method', 'method':'getBoundingClientRect'}\n",
    "                uuid = cast(FTStyler, self.stl).uuid\n",
    "                fut = self.reflect.get_result({'selector':f\"#T_{uuid}\", 'method':'getBoundingClientRect'}, _f2)\n",
    "                if self.dcons:\n",
    "                    self.dcons.log(f\"{fut = }\")\n",
    "            \n",
    "            loop = asyncio.get_event_loop()\n",
    "            loop.call_later(0.1, _show)\n",
    "        self._w.out.append_display_data(self.stl)\n"
   ]
  },
  {
   "cell_type": "code",
   "execution_count": null,
   "id": "3b72964c",
   "metadata": {},
   "outputs": [
    {
     "data": {
      "application/vnd.jupyter.widget-view+json": {
       "model_id": "6e082233c0d34a9c949fb830b0e781ff",
       "version_major": 2,
       "version_minor": 0
      },
      "text/plain": [
       "Box(children=(ReflectWidget(), DFVisor(children=(Box(children=(Output(),), layout=Layout(grid_area='center', h…"
      ]
     },
     "metadata": {},
     "output_type": "display_data"
    },
    {
     "data": {
      "application/vnd.jupyter.widget-view+json": {
       "model_id": "f484a1623509467ead1930e672abf9d9",
       "version_major": 2,
       "version_minor": 0
      },
      "text/plain": [
       "DebugWidget(children=(Box(children=(Button(description='clear', layout=Layout(width='2em'), style=ButtonStyle(…"
      ]
     },
     "metadata": {},
     "output_type": "display_data"
    },
    {
     "name": "stdout",
     "output_type": "stream",
     "text": [
      "\u001b[2m05-23 14:37:21\u001b[0m [\u001b[31m\u001b[1merror    \u001b[0m] \u001b[1mException in callback wait_while(<function <la...t 0x179324670>, <function <la...t 0x179324700>, <function <la...t 0x179324790>, 0.1, 19) at /Users/vic/dev/repo/project/vutil/vutil/async_helper.py:25\n",
      "handle: <TimerHandle when=98432.58541016601 wait_while(<function <la...t 0x179324670>, <function <la...t 0x179324700>, <function <la...t 0x179324790>, 0.1, 19) at /Users/vic/dev/repo/project/vutil/vutil/async_helper.py:25>\u001b[0m [\u001b[34m\u001b[1masyncio\u001b[0m] \u001b[36mexc_info\u001b[0m=\u001b[35m(<class 'AssertionError'>, AssertionError('==:\\n<table id=\"T_fa333\">\\n  <thead>\\n    <tr>\\n      <th class=\"blank level0\">&nbsp;</th>\\n      <th id=\"T_fa333_level0_col0\" class=\"col_heading level0 col0\">filename</th>\\n      <th id=\"T_fa333_level0_col1\" class=\"col_heading level0 col1\">path</th>\\n    </tr>\\n  </thead>\\n  <tbody>\\n    <tr>\\n      <th id=\"T_fa333_level0_row0\" class=\"row_heading level0 row0\">0</th>\\n      <td id=\"T_fa333_row0_col0\" class=\"data row0 col0\">filename_01</td>\\n      <td id=\"T_fa333_row0_col1\" class=\"data row0 col1\">volumes/data/media/user_name/storage/folder_01/filename_01</td>\\n    </tr>\\n    <tr>\\n      <th id=\"T_fa333_level0_row1\" class=\"row_heading level0 row1\">1</th>\\n      <td id=\"T_fa333_row1_col0\" class=\"data row1 col0\">filename_02</td>\\n      <td id=\"T_fa333_row1_col1\" class=\"data row1 col1\">volumes/data/media/user_name/storage/folder_02/filename_02</td>\\n    </tr>\\n  </tbody>\\n</table>\\n<table id=\"T_fa333\">\\n  <thead>\\n    <tr>\\n      <th class=\"blank level0\">&nbsp;</th>\\n      <th id=\"T_0eac8_level0_col0\" class=\"col_heading level0 col0\">filename</th>\\n      <th id=\"T_0eac8_level0_col1\" class=\"col_heading level0 col1\">path</th>\\n    </tr>\\n  </thead>\\n  <tbody>\\n    <tr>\\n      <th id=\"T_0eac8_level0_row0\" class=\"row_heading level0 row0\">0</th>\\n      <td id=\"T_0eac8_row0_col0\" class=\"data row0 col0\">filename_01</td>\\n      <td id=\"T_0eac8_row0_col1\" class=\"data row0 col1\">volumes/data/media/user_name/storage/folder_01/filename_01</td>\\n    </tr>\\n    <tr>\\n      <th id=\"T_0eac8_level0_row1\" class=\"row_heading level0 row1\">1</th>\\n      <td id=\"T_0eac8_row1_col0\" class=\"data row1 col0\">filename_02</td>\\n      <td id=\"T_0eac8_row1_col1\" class=\"data row1 col1\">volumes/data/media/user_name/storage/folder_02/filename_02</td>\\n    </tr>\\n  </tbody>\\n</table>'), <traceback object>)\u001b[0m\n"
     ]
    }
   ],
   "source": [
    "dfv = DFVisor(df, dcons=True)\n"
   ]
  },
  {
   "cell_type": "code",
   "execution_count": null,
   "id": "9f82d0b5",
   "metadata": {},
   "outputs": [],
   "source": [
    "test_eq(dfv.stlr.get_col_widths(), {'index': 4, 'filename': 11, 'path': 20})\n"
   ]
  },
  {
   "cell_type": "code",
   "execution_count": null,
   "id": "02405075",
   "metadata": {},
   "outputs": [
    {
     "data": {
      "application/vnd.jupyter.widget-view+json": {
       "model_id": "f484a1623509467ead1930e672abf9d9",
       "version_major": 2,
       "version_minor": 0
      },
      "text/plain": [
       "DebugWidget(children=(Box(children=(Button(description='clear', layout=Layout(width='2em'), style=ButtonStyle(…"
      ]
     },
     "execution_count": null,
     "metadata": {},
     "output_type": "execute_result"
    }
   ],
   "source": [
    "dfv.dcons"
   ]
  },
  {
   "cell_type": "code",
   "execution_count": null,
   "id": "0f1b1550",
   "metadata": {},
   "outputs": [],
   "source": [
    "html = f'''<table id=\"T_{cast(FTStyler, dfv.stl).uuid}\">\n",
    "  <thead>\n",
    "    <tr>\n",
    "      <th class=\"blank level0\">&nbsp;</th>\n",
    "      <th id=\"T_0eac8_level0_col0\" class=\"col_heading level0 col0\">filename</th>\n",
    "      <th id=\"T_0eac8_level0_col1\" class=\"col_heading level0 col1\">path</th>\n",
    "    </tr>\n",
    "  </thead>\n",
    "  <tbody>\n",
    "    <tr>\n",
    "      <th id=\"T_0eac8_level0_row0\" class=\"row_heading level0 row0\">0</th>\n",
    "      <td id=\"T_0eac8_row0_col0\" class=\"data row0 col0\">filename_01</td>\n",
    "      <td id=\"T_0eac8_row0_col1\" class=\"data row0 col1\">volumes/data/media/user_name/storage/folder_01/filename_01</td>\n",
    "    </tr>\n",
    "    <tr>\n",
    "      <th id=\"T_0eac8_level0_row1\" class=\"row_heading level0 row1\">1</th>\n",
    "      <td id=\"T_0eac8_row1_col0\" class=\"data row1 col0\">filename_02</td>\n",
    "      <td id=\"T_0eac8_row1_col1\" class=\"data row1 col1\">volumes/data/media/user_name/storage/folder_02/filename_02</td>\n",
    "    </tr>\n",
    "  </tbody>\n",
    "</table>'''\n",
    "\n"
   ]
  },
  {
   "cell_type": "code",
   "execution_count": null,
   "id": "2ec8aec7",
   "metadata": {},
   "outputs": [],
   "source": [
    "assert dfv.reflect is not None\n",
    "dfv.reflect.query = {'sn':'0', 'selector':'table', 'kind':'html'}\n",
    "dfv.dcons.log(dfv.reflect.query)\n",
    "wait_while(\n",
    "    lambda cnt: cast(ReflectWidget, dfv.reflect).result is None, \n",
    "    lambda cnt: dfv.dcons.log(f\".{cnt}\"), \n",
    "    lambda cnt: test_eq(cast(ReflectWidget, dfv.reflect).result, html if cnt > 0 else None)\n",
    ")\n"
   ]
  },
  {
   "cell_type": "code",
   "execution_count": null,
   "id": "e34c4f8d",
   "metadata": {},
   "outputs": [],
   "source": [
    "def make_timeseries(start=\"2000-01-01\", end=\"2000-12-31\", freq=\"1D\", seed=None):\n",
    "    index = pd.date_range(start=start, end=end, freq=freq, name=\"timestamp\")\n",
    "    n = len(index)\n",
    "    state = np.random.RandomState(seed)\n",
    "    columns = {\n",
    "        # \"date\": index.to_series(index=range(n)),\n",
    "        \"date\": pd.Series(index),\n",
    "        \"name\": state.choice([\"Alice\", \"Bob\", \"Charlie\"], size=n),\n",
    "        \"id\": state.poisson(1000, size=n),\n",
    "        \"x\": state.rand(n) * 2 - 1,\n",
    "        \"y\": state.rand(n) * 2 - 1,\n",
    "    }\n",
    "    # df = pd.DataFrame(columns, index=index, columns=sorted(columns))\n",
    "    df = pd.DataFrame(columns, columns=sorted(columns))\n",
    "    if df.index[-1] == end:\n",
    "        df = df.iloc[:-1]\n",
    "    return df\n",
    "\n",
    "timeseries = [\n",
    "    make_timeseries(freq=\"1D\", seed=i).rename(columns=lambda x: f\"{x}_{i}\")\n",
    "    for i in range(10)\n",
    "]\n",
    "\n",
    "ts_wide = pd.concat(timeseries, axis=1)\n",
    "\n",
    "# ts_wide.to_parquet(\"timeseries_wide.parquet\")"
   ]
  },
  {
   "cell_type": "code",
   "execution_count": null,
   "id": "7acae7e9",
   "metadata": {},
   "outputs": [
    {
     "data": {
      "application/vnd.jupyter.widget-view+json": {
       "model_id": "341d5084b7d34288bf8178fadf3a526f",
       "version_major": 2,
       "version_minor": 0
      },
      "text/plain": [
       "Box(children=(ReflectWidget(), DFVisor(children=(Box(children=(Output(),), layout=Layout(grid_area='center', h…"
      ]
     },
     "metadata": {},
     "output_type": "display_data"
    }
   ],
   "source": [
    "dfv2 = DFVisor(ts_wide)\n",
    "# dfv(ts_wide)"
   ]
  },
  {
   "cell_type": "code",
   "execution_count": null,
   "id": "a242f278",
   "metadata": {},
   "outputs": [],
   "source": [
    "assert dfv2.reflect\n",
    "# dfv2.reflect.query = {'sn':0, 'id':f\"T_{dfv2.stl.uuid}\", 'kind':'method', 'method':'getBoundingClientRect'}\n",
    "dfv2.reflect.query = {'sn':0, 'selector':f\"#T_{cast(FTStyler, dfv2.stl).uuid}\", 'method':'getBoundingClientRect'}\n"
   ]
  },
  {
   "cell_type": "code",
   "execution_count": null,
   "id": "b0c45337",
   "metadata": {},
   "outputs": [
    {
     "data": {
      "text/plain": [
       "{'x': 55,\n",
       " 'y': 11905.5,\n",
       " 'width': 3238.359375,\n",
       " 'height': 7634.0546875,\n",
       " 'top': 11905.5,\n",
       " 'right': 3293.359375,\n",
       " 'bottom': 19539.5546875,\n",
       " 'left': 55}"
      ]
     },
     "execution_count": null,
     "metadata": {},
     "output_type": "execute_result"
    }
   ],
   "source": [
    "assert dfv2.reflect\n",
    "dfv2.reflect.result"
   ]
  },
  {
   "cell_type": "code",
   "execution_count": null,
   "id": "96000aee",
   "metadata": {},
   "outputs": [],
   "source": [
    "ww = dfv2.stlr.get_col_widths()\n",
    "test_eq(sum(ww.values()), 614)"
   ]
  },
  {
   "attachments": {},
   "cell_type": "markdown",
   "id": "1147dd2d",
   "metadata": {},
   "source": [
    " ----\n"
   ]
  },
  {
   "cell_type": "markdown",
   "id": "05ef09aa",
   "metadata": {},
   "source": [
    "# Colophon\n"
   ]
  },
  {
   "cell_type": "code",
   "execution_count": null,
   "id": "849e03d9",
   "metadata": {},
   "outputs": [],
   "source": [
    "import fastcore.all as F\n",
    "if F.IN_NOTEBOOK:\n",
    "    import nbdev; nbdev.nbdev_export('03_pandas_visor.ipynb')\n"
   ]
  }
 ],
 "metadata": {
  "jupytext": {
   "cell_metadata_filter": "-all",
   "formats": "ipynb,py:percent"
  },
  "kernelspec": {
   "display_name": "python3",
   "language": "python",
   "name": "python3"
  }
 },
 "nbformat": 4,
 "nbformat_minor": 5
}
