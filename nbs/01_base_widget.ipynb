{
 "cells": [
  {
   "cell_type": "code",
   "execution_count": null,
   "metadata": {},
   "outputs": [],
   "source": [
    "#| export\n",
    "from __future__ import annotations"
   ]
  },
  {
   "cell_type": "code",
   "execution_count": null,
   "metadata": {},
   "outputs": [],
   "source": [
    "#| default_exp base_widget"
   ]
  },
  {
   "cell_type": "code",
   "execution_count": null,
   "metadata": {},
   "outputs": [],
   "source": [
    "# %reload_ext autoreload\n",
    "# %autoreload 0"
   ]
  },
  {
   "attachments": {},
   "cell_type": "markdown",
   "metadata": {},
   "source": [
    "# Base Widget\n",
    "> Base class of custom jupyter widgets"
   ]
  },
  {
   "cell_type": "markdown",
   "metadata": {},
   "source": [
    "## Prologue"
   ]
  },
  {
   "cell_type": "code",
   "execution_count": null,
   "metadata": {},
   "outputs": [],
   "source": [
    "#| export\n",
    "import asyncio\n",
    "import inspect\n",
    "import pathlib\n",
    "from functools import partial\n",
    "from functools import wraps\n",
    "from typing import Any\n",
    "from typing import Callable\n",
    "from typing import cast\n",
    "from typing import Protocol\n",
    "from typing import Type\n",
    "from typing_extensions import Self\n",
    "\n",
    "import anywidget\n",
    "import fastcore.all as F\n",
    "import ipywidgets as W\n",
    "import traitlets as T\n",
    "from IPython.display import display\n",
    "\n",
    "import vwidget\n",
    "from vutil.imports import AD\n"
   ]
  },
  {
   "cell_type": "code",
   "execution_count": null,
   "metadata": {},
   "outputs": [],
   "source": [
    "import datetime as dt\n",
    "import time\n",
    "import uuid\n",
    "\n",
    "from fastcore.test import *  # type: ignore [reportWildcardImportFromLibrary]\n",
    "import pandas as pd\n",
    "from vutil.test import test_is_not\n",
    "from vutil.test import test_raises\n"
   ]
  },
  {
   "attachments": {},
   "cell_type": "markdown",
   "metadata": {},
   "source": [
    " ----"
   ]
  },
  {
   "cell_type": "code",
   "execution_count": null,
   "metadata": {},
   "outputs": [],
   "source": [
    "# if F.IN_IPYTHON:\n",
    "#     import nest_asyncio\n",
    "#     nest_asyncio.apply()"
   ]
  },
  {
   "cell_type": "code",
   "execution_count": null,
   "metadata": {},
   "outputs": [],
   "source": [
    "#| export\n",
    "if F.IN_NOTEBOOK:\n",
    "    _BUNDLER_PATH = pathlib.Path(\"src\")\n",
    "else:\n",
    "    _BUNDLER_PATH = pathlib.Path(inspect.getfile(vwidget)).parent / (\"static\")\n"
   ]
  },
  {
   "attachments": {},
   "cell_type": "markdown",
   "metadata": {},
   "source": [
    "ipywidgets/anywidgets deprecation warning"
   ]
  },
  {
   "cell_type": "code",
   "execution_count": null,
   "metadata": {},
   "outputs": [],
   "source": [
    "import warnings\n",
    "warnings.filterwarnings(\"ignore\", category=DeprecationWarning)\n",
    "warnings.filterwarnings('ignore')\n",
    "warnings.simplefilter('ignore')\n"
   ]
  },
  {
   "attachments": {},
   "cell_type": "markdown",
   "metadata": {},
   "source": [
    " ----"
   ]
  },
  {
   "cell_type": "code",
   "execution_count": null,
   "metadata": {},
   "outputs": [],
   "source": [
    "# %gui asyncio"
   ]
  },
  {
   "cell_type": "markdown",
   "metadata": {},
   "source": [
    "## Reflect widget"
   ]
  },
  {
   "cell_type": "code",
   "execution_count": null,
   "metadata": {},
   "outputs": [],
   "source": [
    "#| exporti\n",
    "def wait_for_change(widget, value):\n",
    "    future = asyncio.Future()\n",
    "    def getvalue(change):\n",
    "        # make the new value available\n",
    "        future.set_result(change.new)\n",
    "        widget.unobserve(getvalue, value)\n",
    "    widget.observe(getvalue, value)\n",
    "    return future\n"
   ]
  },
  {
   "cell_type": "code",
   "execution_count": null,
   "metadata": {},
   "outputs": [],
   "source": [
    "#| exporti\n",
    "def yield_for_change(widget, attribute):\n",
    "    \"\"\"Pause a generator to wait for a widget change event.\n",
    "        \n",
    "    This is a decorator for a generator function which pauses the generator on yield\n",
    "    until the given widget attribute changes. The new value of the attribute is\n",
    "    sent to the generator and is the value of the yield.\n",
    "    \"\"\"\n",
    "    def f(iterator):\n",
    "        @wraps(iterator)\n",
    "        def inner():\n",
    "            i = iterator()\n",
    "            def next_i(change):\n",
    "                try:\n",
    "                    i.send(change.new)\n",
    "                except StopIteration as e:\n",
    "                    widget.unobserve(next_i, attribute)\n",
    "            widget.observe(next_i, attribute)\n",
    "            # start the generator\n",
    "            next(i)\n",
    "        return inner\n",
    "    return f\n"
   ]
  },
  {
   "cell_type": "code",
   "execution_count": null,
   "metadata": {},
   "outputs": [],
   "source": [
    "#| export\n",
    "class ReflectWidget(anywidget.AnyWidget):\n",
    "    _id = 0\n",
    "    _esm = _BUNDLER_PATH / 'reflect.js'\n",
    "    _css = \"\"\"\n",
    "          .reflect-div {\n",
    "            width: 40ch;\n",
    "            height: 20px;\n",
    "            background-image: linear-gradient(to right, #a1c4fd, #c2e9fb);\n",
    "            # background-image: transparent;\n",
    "            border: 0;\n",
    "            # border-radius: 10px;\n",
    "            # padding: 10px 50px;\n",
    "            color: white;\n",
    "          }\n",
    "          \"\"\"\n",
    "    _rid = T.Unicode('').tag(sync=True)  # type: ignore\n",
    "    ui = T.Bool(False).tag(sync=True)  # type: ignore\n",
    "    # value = traitlets.Int(0).tag(sync=True)  # type: ignore\n",
    "    # _html = traitlets.Unicode('').tag(sync=True)  # type: ignore\n",
    "    query = T.Dict({}).tag(sync=True)\n",
    "\n",
    "    @property\n",
    "    def result(self) -> Any | None:\n",
    "        return self.query['result'] if 'result' in self.query else None  # type: ignore\n",
    "    \n",
    "    def get_result(self, query, done: Callable[[Self], None] | None = None) -> asyncio.Future:\n",
    "        async def f():\n",
    "          x = await wait_for_change(self, 'query')\n",
    "          if done:\n",
    "            loop = asyncio.get_event_loop()\n",
    "            loop.call_later(0.0, done, self)\n",
    "        \n",
    "        self.query = query\n",
    "        return asyncio.ensure_future(f())\n",
    "    \n",
    "    def __init__(self, ui: bool = False, query: dict | None = None, *args, **kwargs):\n",
    "        if ui: \n",
    "          self.ui = ui\n",
    "        ReflectWidget._id += 1\n",
    "        self._rid = f\"__vutil-reflect-{self._id}\"\n",
    "        super().__init__(*args, **kwargs)\n",
    "        if query is None:\n",
    "          return\n",
    "        self.query = query\n",
    "        async def f():\n",
    "          x = await wait_for_change(self, 'query')\n",
    "        asyncio.ensure_future(f())\n"
   ]
  },
  {
   "cell_type": "code",
   "execution_count": null,
   "metadata": {},
   "outputs": [
    {
     "data": {
      "application/vnd.jupyter.widget-view+json": {
       "model_id": "25f3cfbcc39f41ecaa880d3d4af2696b",
       "version_major": 2,
       "version_minor": 0
      },
      "text/plain": [
       "ReflectWidget()"
      ]
     },
     "metadata": {},
     "output_type": "display_data"
    }
   ],
   "source": [
    "display(w := ReflectWidget())\n",
    "test_eq(w.query, {})\n"
   ]
  },
  {
   "cell_type": "code",
   "execution_count": null,
   "metadata": {},
   "outputs": [],
   "source": [
    "query = {'method':'getBoundingClientRect'}\n",
    "\n",
    "def _f(w):\n",
    "    # print(f\"{w.query = }\")\n",
    "    test_ne(w.query, query)\n",
    "    test_eq(w.result['height'], 0)\n",
    "fut = w.get_result(query, _f)\n",
    "test_is(fut.done(), False)\n"
   ]
  },
  {
   "cell_type": "code",
   "execution_count": null,
   "metadata": {},
   "outputs": [
    {
     "data": {
      "application/vnd.jupyter.widget-view+json": {
       "model_id": "d214c18d867441c5a3cb21b5d2230007",
       "version_major": 2,
       "version_minor": 0
      },
      "text/plain": [
       "ReflectWidget()"
      ]
     },
     "metadata": {},
     "output_type": "display_data"
    }
   ],
   "source": [
    "w = ReflectWidget()\n",
    "display(w)\n",
    "query = {'kind':'html'}\n",
    "def _f2(w):\n",
    "    # print(f\"{w.query = }\")\n",
    "    test_eq(w.result, \n",
    "            f'<div class=\"reflect-div\" id=\"__vutil-reflect-{w._id}\" style=\"display: none;\">'\n",
    "            f'reflect __vutil-reflect-{w._id}</div>')\n",
    "fut = w.get_result(query, _f2)\n",
    "test_is(fut.done(), False)\n"
   ]
  },
  {
   "attachments": {},
   "cell_type": "markdown",
   "metadata": {},
   "source": [
    "Reflection is async. We must wait for the front end to send the widget state before we can reflect it."
   ]
  },
  {
   "cell_type": "code",
   "execution_count": null,
   "metadata": {},
   "outputs": [
    {
     "data": {
      "application/vnd.jupyter.widget-view+json": {
       "model_id": "e99a1f0635e04d05b70478be3d43524e",
       "version_major": 2,
       "version_minor": 0
      },
      "text/plain": [
       "ReflectWidget(ui=True)"
      ]
     },
     "metadata": {},
     "output_type": "display_data"
    },
    {
     "name": "stderr",
     "output_type": "stream",
     "text": [
      "Exception in callback _f2(ReflectWidget...ect-2</div>'})) at /var/folders/np/k2wj6f4s3rj0m9n0yt8pkk680000gn/T/ipykernel_92540/3667747487.py:4\n",
      "handle: <TimerHandle when=94222.0914365 _f2(ReflectWidget...ect-2</div>'})) at /var/folders/np/k2wj6f4s3rj0m9n0yt8pkk680000gn/T/ipykernel_92540/3667747487.py:4>\n",
      "Traceback (most recent call last):\n",
      "  File \"/Users/vic/dev/repo/project/vwidget/.micromamba/envs/vwidget/lib/python3.10/asyncio/events.py\", line 80, in _run\n",
      "    self._context.run(self._callback, *self._args)\n",
      "  File \"/var/folders/np/k2wj6f4s3rj0m9n0yt8pkk680000gn/T/ipykernel_92540/3667747487.py\", line 6, in _f2\n",
      "    test_eq(w.result,\n",
      "  File \"/Users/vic/dev/repo/project/vwidget/.micromamba/envs/vwidget/lib/python3.10/site-packages/fastcore/test.py\", line 37, in test_eq\n",
      "    test(a,b,equals, cname='==')\n",
      "  File \"/Users/vic/dev/repo/project/vwidget/.micromamba/envs/vwidget/lib/python3.10/site-packages/fastcore/test.py\", line 27, in test\n",
      "    assert cmp(a,b),f\"{cname}:\\n{a}\\n{b}\"\n",
      "AssertionError: ==:\n",
      "<div class=\"reflect-div\" id=\"__vutil-reflect-2\" style=\"display: none;\">reflect __vutil-reflect-2</div>\n",
      "<div class=\"reflect-div\" id=\"__vutil-reflect-13\" style=\"display: none;\">reflect __vutil-reflect-13</div>\n"
     ]
    }
   ],
   "source": [
    "w = ReflectWidget(ui=True)\n",
    "display(w)\n",
    "fut = w.get_result(\n",
    "    {'method':'getBoundingClientRect'},\n",
    "    lambda x: test_eq(cast(dict, x.result)['height'], 20)\n",
    ")\n",
    "test_is(fut.done(), False)\n"
   ]
  },
  {
   "attachments": {},
   "cell_type": "markdown",
   "metadata": {},
   "source": [
    "Use `wait_for_change` or `yield_for_change` to wait for reflection to complete"
   ]
  },
  {
   "cell_type": "code",
   "execution_count": null,
   "metadata": {},
   "outputs": [
    {
     "data": {
      "application/vnd.jupyter.widget-view+json": {
       "model_id": "9e66f470093f4d3a83f01310428eb88e",
       "version_major": 2,
       "version_minor": 0
      },
      "text/plain": [
       "ReflectWidget()"
      ]
     },
     "metadata": {},
     "output_type": "display_data"
    }
   ],
   "source": [
    "w = ReflectWidget()\n",
    "display(w)\n"
   ]
  },
  {
   "cell_type": "code",
   "execution_count": null,
   "metadata": {},
   "outputs": [],
   "source": [
    "w.ui = True\n",
    "w.query = {'method':'getBoundingClientRect'}\n",
    "\n",
    "async def f1(w):\n",
    "    x = await wait_for_change(w, 'query')\n",
    "    # print(x)\n",
    "    test_eq(x, w.query)\n",
    "    if 'result' in  x:\n",
    "        test_eq(cast(dict, w.result)['height'], 20)\n",
    "        # print(f\"{cast(dict, w.query)['result']['height'] = }\")\n",
    "asyncio.ensure_future(f1(w))\n",
    "test_is(w.result, None)\n"
   ]
  },
  {
   "cell_type": "code",
   "execution_count": null,
   "metadata": {},
   "outputs": [
    {
     "data": {
      "application/vnd.jupyter.widget-view+json": {
       "model_id": "dbbceebf631c4d82a119615bec51c15d",
       "version_major": 2,
       "version_minor": 0
      },
      "text/plain": [
       "ReflectWidget()"
      ]
     },
     "metadata": {},
     "output_type": "display_data"
    }
   ],
   "source": [
    "w2 = ReflectWidget()\n",
    "display(w2)\n",
    "\n",
    "w2.ui = True\n",
    "w2.query = {'method':'getBoundingClientRect'}\n",
    "\n",
    "@yield_for_change(w2, 'query')\n",
    "def f2():\n",
    "    x = yield\n",
    "    # print(x)\n",
    "    test_eq(x, w2.query)\n",
    "    test_eq(cast(dict, w2.result)['height'], 20)\n",
    "    # print(f\"{cast(dict, w2.query)['result']['height'] = }\")\n",
    "f2()  # yield_for_change(w, 'query')(f)()\n",
    "test_is(w2.result, None)\n"
   ]
  },
  {
   "attachments": {},
   "cell_type": "markdown",
   "metadata": {},
   "source": [
    "## Themer widget"
   ]
  },
  {
   "cell_type": "code",
   "execution_count": null,
   "metadata": {},
   "outputs": [],
   "source": [
    "#| export\n",
    "class ThemerWidget(anywidget.AnyWidget):\n",
    "    _esm = \"\"\"\n",
    "    export function render(view) {\n",
    "        let div = document.getElementById(\"__vutil_themer\");\n",
    "        if (!div) {\n",
    "          div = document.createElement(\"div\");\n",
    "          div.id = \"__vutil_themer\";\n",
    "          div.innerHTML = `themer div`;\n",
    "          div.style.display = \"none\";\n",
    "          view.el.appendChild(div);\n",
    "        }\n",
    "        view.model.on(\"change:value\", () => {\n",
    "          let div = document.getElementById(\"__vutil_themer\");\n",
    "          div.style.display = view.model.get(\"ui\") ? \"block\" : \"none\";\n",
    "        });\n",
    "    }\n",
    "    \"\"\"\n",
    "\n",
    "    _css = \"\"\"\n",
    "    .cell-output-ipywidget-background {\n",
    "        background-color: var(--vscode-editor-background) !important;\n",
    "        # border: 1px solid var(--vscode-editor-background) !important;\n",
    "        border: 1px solid rgb(53 154 92 / 35%);\n",
    "    }\n",
    "    #__vutil_themer {\n",
    "      height: 20px;\n",
    "      width: 100px;\n",
    "      background-color: red;\n",
    "    }\n",
    "    \"\"\"\n",
    "    ui = T.Bool(False).tag(sync=True)  # type: ignore\n",
    "\n",
    "class WidgetCSS(anywidget.AnyWidget):\n",
    "    _esm = None\n",
    "    def __init__(self, css: str):\n",
    "        self._css = css\n",
    "        super().__init__()\n"
   ]
  },
  {
   "cell_type": "code",
   "execution_count": null,
   "metadata": {},
   "outputs": [
    {
     "data": {
      "application/vnd.jupyter.widget-view+json": {
       "model_id": "4e704790ae244f1c9abd2b56edc9cc21",
       "version_major": 2,
       "version_minor": 0
      },
      "text/plain": [
       "Box(children=(ReflectWidget(),), layout=Layout(height='80px'))"
      ]
     },
     "execution_count": null,
     "metadata": {},
     "output_type": "execute_result"
    },
    {
     "name": "stdout",
     "output_type": "stream",
     "text": [
      "{'selector': 'div[class=\"cell-output-ipywidget-background\"]', 'kind': 'style', 'prop': 'background-color', 'rid': '__vutil-reflect-6', 'result': 'rgb(255, 255, 255)'}\n"
     ]
    },
    {
     "name": "stderr",
     "output_type": "stream",
     "text": [
      "Exception in callback check_result.<locals>.f(ReflectWidget...31, 31, 31)'})) at /var/folders/np/k2wj6f4s3rj0m9n0yt8pkk680000gn/T/ipykernel_92540/2495405475.py:2\n",
      "handle: <TimerHandle when=94195.985518625 check_result.<locals>.f(ReflectWidget...31, 31, 31)'})) at /var/folders/np/k2wj6f4s3rj0m9n0yt8pkk680000gn/T/ipykernel_92540/2495405475.py:2>\n",
      "Traceback (most recent call last):\n",
      "  File \"/Users/vic/dev/repo/project/vwidget/.micromamba/envs/vwidget/lib/python3.10/asyncio/events.py\", line 80, in _run\n",
      "    self._context.run(self._callback, *self._args)\n",
      "  File \"/var/folders/np/k2wj6f4s3rj0m9n0yt8pkk680000gn/T/ipykernel_92540/2495405475.py\", line 5, in f\n",
      "    test_eq(w.result, expected)\n",
      "  File \"/Users/vic/dev/repo/project/vwidget/.micromamba/envs/vwidget/lib/python3.10/site-packages/fastcore/test.py\", line 37, in test_eq\n",
      "    test(a,b,equals, cname='==')\n",
      "  File \"/Users/vic/dev/repo/project/vwidget/.micromamba/envs/vwidget/lib/python3.10/site-packages/fastcore/test.py\", line 27, in test\n",
      "    assert cmp(a,b),f\"{cname}:\\n{a}\\n{b}\"\n",
      "AssertionError: ==:\n",
      "rgb(31, 31, 31)\n",
      "rgb(30, 30, 30)\n"
     ]
    },
    {
     "name": "stdout",
     "output_type": "stream",
     "text": [
      "{'selector': 'div[class=\"cell-output-ipywidget-background\"]', 'kind': 'style', 'prop': 'background-color', 'rid': '__vutil-reflect-6', 'result': 'rgb(31, 31, 31)'}\n"
     ]
    }
   ],
   "source": [
    "w = W.Box([(r := ReflectWidget())], layout=W.Layout(height=\"80px\"))\n",
    "w"
   ]
  },
  {
   "cell_type": "code",
   "execution_count": null,
   "metadata": {},
   "outputs": [],
   "source": [
    "def check_result(expected, show_query=False):\n",
    "    def f(w):\n",
    "        if show_query:\n",
    "            print(w.query)\n",
    "        test_eq(w.result, expected)\n",
    "    return f\n"
   ]
  },
  {
   "cell_type": "code",
   "execution_count": null,
   "metadata": {},
   "outputs": [
    {
     "data": {
      "text/plain": [
       "<Task pending name='Task-8' coro=<ReflectWidget.get_result.<locals>.f() running at /var/folders/np/k2wj6f4s3rj0m9n0yt8pkk680000gn/T/ipykernel_92540/2668587759.py:28>>"
      ]
     },
     "execution_count": null,
     "metadata": {},
     "output_type": "execute_result"
    }
   ],
   "source": [
    "fut = r.get_result(\n",
    "    {'selector':'div[class=\"cell-output-ipywidget-background\"]', 'kind':'style', 'prop':'background-color'}, \n",
    "    check_result('rgb(255, 255, 255)', True))\n",
    "test_is(fut.done(), False)\n",
    "fut\n"
   ]
  },
  {
   "cell_type": "code",
   "execution_count": null,
   "metadata": {},
   "outputs": [
    {
     "data": {
      "application/vnd.jupyter.widget-view+json": {
       "model_id": "b7bd83e226184a6aaece4f5244ccea1c",
       "version_major": 2,
       "version_minor": 0
      },
      "text/plain": [
       "ThemerWidget()"
      ]
     },
     "execution_count": null,
     "metadata": {},
     "output_type": "execute_result"
    }
   ],
   "source": [
    "tw = ThemerWidget()\n",
    "tw"
   ]
  },
  {
   "cell_type": "code",
   "execution_count": null,
   "metadata": {},
   "outputs": [
    {
     "data": {
      "text/plain": [
       "<Task pending name='Task-9' coro=<ReflectWidget.get_result.<locals>.f() running at /var/folders/np/k2wj6f4s3rj0m9n0yt8pkk680000gn/T/ipykernel_92540/2668587759.py:28>>"
      ]
     },
     "execution_count": null,
     "metadata": {},
     "output_type": "execute_result"
    }
   ],
   "source": [
    "fut = r.get_result(\n",
    "    {'selector':'div[class=\"cell-output-ipywidget-background\"]', 'kind':'style', 'prop':'background-color'}, \n",
    "    check_result('rgb(30, 30, 30)', True))\n",
    "test_is(fut.done(), False)\n",
    "fut\n"
   ]
  },
  {
   "attachments": {},
   "cell_type": "markdown",
   "metadata": {},
   "source": [
    "## BaseExplorerApp\n",
    "> Simple `Box` subclass for composing widgets"
   ]
  },
  {
   "cell_type": "code",
   "execution_count": null,
   "metadata": {},
   "outputs": [],
   "source": [
    "def create_expanded_button(description, button_style):\n",
    "    return W.Button(description=description, button_style=button_style, layout=W.Layout(height='auto', width='auto'))    \n",
    "    # return W.Button(description=description, button_style=button_style, layout=W.Layout(height='100%', width='100%'))"
   ]
  },
  {
   "cell_type": "code",
   "execution_count": null,
   "metadata": {},
   "outputs": [],
   "source": [
    "header_button = create_expanded_button('Header', 'success')\n",
    "left_button = create_expanded_button('Left', 'info')\n",
    "center_button = create_expanded_button('Center', 'warning')\n",
    "right_button = create_expanded_button('Right', 'info')\n",
    "footer_button = create_expanded_button('Footer', 'success')"
   ]
  },
  {
   "cell_type": "code",
   "execution_count": null,
   "metadata": {},
   "outputs": [
    {
     "data": {
      "application/vnd.jupyter.widget-view+json": {
       "model_id": "42a1b4fc505b4cd5a491a5ab22dcc947",
       "version_major": 2,
       "version_minor": 0
      },
      "text/plain": [
       "AppLayout(children=(Button(button_style='info', description='Left', layout=Layout(grid_area='left-sidebar', he…"
      ]
     },
     "execution_count": null,
     "metadata": {},
     "output_type": "execute_result"
    }
   ],
   "source": [
    "app = W.AppLayout(\n",
    "    # header=None,#header_button,\n",
    "    left_sidebar=left_button,\n",
    "    center=center_button,#W.Box([center_button]),\n",
    "    # right_sidebar=None,#right_button,\n",
    "    # footer=None,#footer_button,\n",
    "    pane_widths=[2, 4, 3],\n",
    "    pane_heights=[1, 5, 1],\n",
    "    # height='220px',  # these two are forwarded to `layout`\n",
    "    # width='100%',\n",
    "    layout=dict(\n",
    "      height='220px',\n",
    "      max_height='320px',\n",
    "      width='100%',)\n",
    "  )\n",
    "app\n",
    "# box = W.Box([app])\n",
    "# box\n"
   ]
  },
  {
   "cell_type": "code",
   "execution_count": null,
   "metadata": {},
   "outputs": [],
   "source": [
    "#| export\n",
    "class DebugWidgetP(Protocol):\n",
    "    def clear(self, *args): ...\n",
    "    def log(self, msg): ...\n",
    "    def log_inc(self, msg=''): ...\n",
    "\n",
    "class _NoopDebugWidget:\n",
    "    def clear(self, *args): ...\n",
    "    def log(self, msg): ...\n",
    "    def log_inc(self, msg=''): ...\n",
    "NOOPDCONS = _NoopDebugWidget()\n",
    "\n",
    "class BaseExplorerApp(W.AppLayout):\n",
    "    \"Base class for ipywidgets composite to explore data\"\n",
    "    _w: AD  # widget subcomponents\n",
    "    _css = ''\n",
    "    _exclude = ()\n",
    "    value = T.Dict({}, read_only=True)\n",
    "    dcons: DebugWidgetP\n",
    "    themer: WidgetCSS\n",
    "    reflect: ReflectWidget\n",
    "    \n",
    "    @classmethod\n",
    "    def _setup_css(cls) -> WidgetCSS | None:\n",
    "        if not cls._css:\n",
    "            return None\n",
    "        if not hasattr(cls, '_css_cls'):\n",
    "            n, ll = f\"{cls.__name__}_CSS\", {}\n",
    "            exec(f\"class {n}(WidgetCSS): ...\", globals(), ll)\n",
    "            cls._css_cls:Type[WidgetCSS] = ll[n]\n",
    "        return cls._css_cls(cls._css)\n",
    "    def _setup_dcons(self, dcons: bool | DebugWidgetP | None = None) -> DebugWidgetP: ...\n",
    "\n",
    "    def d(self): pass\n",
    "\n",
    "    # ---------- ---------- Model ---------- ----------\n",
    "    def setup_model(self, *args) -> dict[str, Any]:\n",
    "        \"\"\"setup model and initial state.\n",
    "        For our purposes, the model is just a mapping of widget names to actual widget values\n",
    "        \"\"\"\n",
    "        return AD()\n",
    "\n",
    "    # ---------- ---------- UI view ---------- ----------\n",
    "    @property\n",
    "    def widgets(self) -> dict[str, W.DOMWidget]:\n",
    "        return AD(self._w)\n",
    "    def _update_ui(self): pass\n",
    "    def setup_widgets(self, widgets: dict[str, W.DOMWidget] = {}) -> dict[str, W.DOMWidget]:\n",
    "        return AD(widgets)\n",
    "    def setup_layout(self):\n",
    "        # ww = []\n",
    "        # ensure themer and/or reflect is first\n",
    "        # try:\n",
    "        #     ww.append(self._w.themer)\n",
    "        # except AttributeError:\n",
    "        #     pass\n",
    "        # try:\n",
    "        #     ww.append(self._w.reflect)\n",
    "        # except AttributeError:\n",
    "        #     pass\n",
    "        # # # note widgets are stacked in self._w insertion order\n",
    "        # # ww.extend([w for k, w in self._w.items() if k not in self._exclude])\n",
    "        # # base_box = W.Box(\n",
    "        # #     ww, \n",
    "        # #     # layout=W.Layout(\n",
    "        # #     #     # display='flex',\n",
    "        # #     #     # flex_flow='row',\n",
    "        # #     #     # justify_content='flex-start',\n",
    "        # #     #     # height=f\"{height}px\",\n",
    "        # #     #     # border='1px solid red',\n",
    "        # #     # )\n",
    "        # # )\n",
    "        # # return base_box\n",
    "        # return ww\n",
    "        if self._w:\n",
    "            return {'center': W.Box(list(self._w.values()), layout=W.Layout(width='100%', height='100%'))}\n",
    "        return {}\n",
    "    \n",
    "    # ---------- ---------- UX ---------- ----------\n",
    "    def _setup_state(self, state: dict[str, Any], **kwargs):\n",
    "        \"setup initial values of widgets\"\n",
    "        for k in tuple(kwargs.keys()):\n",
    "            if k in self._w and k not in self._exclude:\n",
    "                v = kwargs.pop(k)\n",
    "                # self._w[k].value = v\n",
    "                state[k] = v\n",
    "        # state.update({\n",
    "        #     k:w.value for k, w in self._w.items() \n",
    "        #     if k not in self._exclude and hasattr(w, 'value')})\n",
    "        return kwargs\n",
    "    def on_value_change(self, change):\n",
    "        # print(f\"{type(self).__name__}.on_value_change - {change['new']}\")\n",
    "        pass\n",
    "    def _on_widget_value_change(self, widget_name, change):\n",
    "        # self.value[widget_name] = change['new']\n",
    "        # tt = time.perf_counter()\n",
    "        self.set_trait('value', self.value | {widget_name:change['new']})\n",
    "        # print(f\"{tt} - {type(self).__name__}._on_widget_value_change - {widget_name}: {change['new']}\")\n",
    "    def setup_ux(self, state):\n",
    "        \"state contains initial values of widgets from `setup_model` and defaults from `_defs`\"\n",
    "        # setup initial values of widgets\n",
    "        for k, v in state.items():\n",
    "            self._w[k].value = v\n",
    "        # setup initial app value\n",
    "        self.set_trait('value', state)\n",
    "        # setup widget callbacks\n",
    "        for k,w in self._w.items():\n",
    "            if k not in self._exclude and hasattr(w, 'value'):\n",
    "                self._w[k].observe(partial(self._on_widget_value_change, k), names='value')\n",
    "        self.observe(self.on_value_change, names='value')  # type: ignore\n",
    "    # ---------- ---------- initialization ---------- ----------\n",
    "    def show(self):\n",
    "        ww = []\n",
    "        try:\n",
    "            ww.append(self.themer)\n",
    "        except AttributeError:\n",
    "            pass\n",
    "        try:\n",
    "            ww.append(self.reflect)\n",
    "        except AttributeError:\n",
    "            pass\n",
    "        ww.append(self)\n",
    "        d = self.dcons\n",
    "        # if d is not None and d is not NOOPDCONS:\n",
    "        #     ww.append(cast(Any, d))\n",
    "        display(W.Box(ww), d) if d is not None and d is not NOOPDCONS else display(W.Box(ww))\n",
    "    def __init__(self, \n",
    "            *model,  # model initial state, forwarded to _setup_model\n",
    "            show: bool = True, \n",
    "            dcons: bool | DebugWidgetP | None = None, \n",
    "            reflect: bool = True,\n",
    "            **kwargs  # widgets items values, forwarded to _setup_values\n",
    "    ):\n",
    "        self.dcons = self._setup_dcons(dcons)\n",
    "        if reflect:\n",
    "            self.reflect = ReflectWidget()\n",
    "        if (_ := self._setup_css()):\n",
    "            self.themer = _\n",
    "        # ---------- model\n",
    "        state = self.setup_model(*model)\n",
    "        # --------- view\n",
    "        self._w = cast(AD, self.setup_widgets(kwargs.pop('widgets', {})))\n",
    "        panes = self.setup_layout()\n",
    "        # ----- defaults\n",
    "        defs = getattr(type(self), '_defs', None)\n",
    "        if defs:\n",
    "            defs.update(kwargs)\n",
    "            kwargs = defs\n",
    "        # ----- state\n",
    "        # self._setup_values(**kwargs)\n",
    "        kwargs = self._setup_state(state, **kwargs)  # after this, kwargs should only have AppLayout props\n",
    "        super().__init__(**panes, width=kwargs.pop('width', '100%'), **kwargs)\n",
    "        # ---------- UX\n",
    "        if show:\n",
    "            self.show()\n",
    "        self.setup_ux(state)\n",
    "        self.d()\n",
    "\n"
   ]
  },
  {
   "cell_type": "code",
   "execution_count": null,
   "metadata": {},
   "outputs": [
    {
     "data": {
      "application/vnd.jupyter.widget-view+json": {
       "model_id": "d06be78b754541798657395db35e8fd1",
       "version_major": 2,
       "version_minor": 0
      },
      "text/plain": [
       "Box(children=(ReflectWidget(), BaseExplorerApp(layout=Layout(width='100%'))))"
      ]
     },
     "metadata": {},
     "output_type": "display_data"
    },
    {
     "name": "stdout",
     "output_type": "stream",
     "text": [
      "{'x': 53, 'y': 16098, 'width': 878, 'height': 0, 'top': 16098, 'right': 931, 'bottom': 16098, 'left': 53}\n"
     ]
    }
   ],
   "source": [
    "w = BaseExplorerApp()\n",
    "test_is_not(w.reflect, None)\n",
    "test_is(cast(ReflectWidget, w.reflect).result, None)\n",
    "test_eq((_ for _ in w.keys if _[0] != '_'), [  # type: ignore\n",
    "    'box_style',\n",
    "    'children',\n",
    "    'layout',\n",
    "    'tabbable',\n",
    "    'tooltip'])\n",
    "test_eq(w.value, {})"
   ]
  },
  {
   "cell_type": "code",
   "execution_count": null,
   "metadata": {},
   "outputs": [
    {
     "data": {
      "text/plain": [
       "<Task pending name='Task-10' coro=<ReflectWidget.get_result.<locals>.f() running at /var/folders/np/k2wj6f4s3rj0m9n0yt8pkk680000gn/T/ipykernel_92540/2668587759.py:28>>"
      ]
     },
     "execution_count": null,
     "metadata": {},
     "output_type": "execute_result"
    }
   ],
   "source": [
    "assert w.reflect is not None\n",
    "w.reflect.get_result(\n",
    "    {'selector':'.widget-box', 'method':'getBoundingClientRect'}, \n",
    "    lambda x: print(x.result) or test_eq(x.result['height'], 0))  # type: ignore\n"
   ]
  },
  {
   "cell_type": "code",
   "execution_count": null,
   "metadata": {},
   "outputs": [
    {
     "data": {
      "application/vnd.jupyter.widget-view+json": {
       "model_id": "b7379be85eac4096a566af1ad042041b",
       "version_major": 2,
       "version_minor": 0
      },
      "text/plain": [
       "Box(children=(ReflectWidget(), BaseExplorerApp(children=(Box(children=(Button(button_style='warning', descript…"
      ]
     },
     "metadata": {},
     "output_type": "display_data"
    }
   ],
   "source": [
    "w = BaseExplorerApp(widgets=AD(button=center_button))\n",
    "test_eq(w.value, {})"
   ]
  },
  {
   "cell_type": "code",
   "execution_count": null,
   "metadata": {},
   "outputs": [
    {
     "data": {
      "application/vnd.jupyter.widget-view+json": {
       "model_id": "5bf3a18bd04d48a89816c16568b745fa",
       "version_major": 2,
       "version_minor": 0
      },
      "text/plain": [
       "Box(children=(ReflectWidget(), BaseExplorerApp(children=(Box(children=(Button(button_style='warning', descript…"
      ]
     },
     "metadata": {},
     "output_type": "display_data"
    }
   ],
   "source": [
    "button = W.Button(description='Button', button_style='warning', layout=W.Layout(height='320px', width='100%'))\n",
    "w = BaseExplorerApp(widgets=AD(button=button), height='120px', layout=AD(max_height='220px'))\n",
    "test_eq(w.value, {})"
   ]
  },
  {
   "cell_type": "code",
   "execution_count": null,
   "metadata": {},
   "outputs": [],
   "source": [
    "class TestApp(BaseExplorerApp):\n",
    "    def setup_widgets(self, widgets):\n",
    "        return AD(text = W.Textarea(layout=W.Layout(width='100%', height='100%')))"
   ]
  },
  {
   "attachments": {},
   "cell_type": "markdown",
   "metadata": {},
   "source": [
    "Note `TestApp` is equivalent to `BaseExplorerApp(widgets=AD(text=WW.Textarea(layout=W.Layout(width='100%', height='100%')))`"
   ]
  },
  {
   "cell_type": "code",
   "execution_count": null,
   "metadata": {},
   "outputs": [
    {
     "data": {
      "application/vnd.jupyter.widget-view+json": {
       "model_id": "5532c5f997b04239a89060205c317fd6",
       "version_major": 2,
       "version_minor": 0
      },
      "text/plain": [
       "Box(children=(ReflectWidget(), TestApp(children=(Box(children=(Textarea(value='', layout=Layout(height='100%',…"
      ]
     },
     "metadata": {},
     "output_type": "display_data"
    }
   ],
   "source": [
    "w = TestApp(text='hello world', height='40px', width='100%')\n",
    "test_eq(w.value, {'text': 'hello world'})\n"
   ]
  },
  {
   "attachments": {},
   "cell_type": "markdown",
   "metadata": {},
   "source": [
    "`TestApp` value is read-only. But being a `Dict`, can be modified in place but with no effect whasoever on the component widgets.  \n",
    "To modify the app value, you must modify interactively o programatically the widgets."
   ]
  },
  {
   "cell_type": "code",
   "execution_count": null,
   "metadata": {},
   "outputs": [],
   "source": [
    "with test_raises(T.TraitError):\n",
    "    w.value = {'text': 'bye, bye'}"
   ]
  },
  {
   "cell_type": "code",
   "execution_count": null,
   "metadata": {},
   "outputs": [],
   "source": [
    "w.widgets.text.value = 'bye, bye'  # type: ignore\n",
    "test_eq(w.value, {'text': 'bye, bye'})"
   ]
  },
  {
   "cell_type": "markdown",
   "metadata": {},
   "source": [
    "## Debug view"
   ]
  },
  {
   "cell_type": "code",
   "execution_count": null,
   "metadata": {},
   "outputs": [],
   "source": [
    "# %%html\n",
    "# <style>\n",
    "#     .widget-radio-box {flex-direction: row !important;}\n",
    "#     .widget-radio-box label{margin:5px !important; width: auto !important;}\n",
    "# </style>\n"
   ]
  },
  {
   "cell_type": "code",
   "execution_count": null,
   "metadata": {},
   "outputs": [],
   "source": [
    "#| export\n",
    "class DebugWidget(BaseExplorerApp):\n",
    "    def clear(self, *args):\n",
    "        self._w.debug_view.value = ''\n",
    "    def log(self, msg):\n",
    "        self._w.debug_view.value = f\"{msg}\\n{self._w.debug_view.value}\"\n",
    "    def log_inc(self, msg=''):\n",
    "        first, sep, rest = self._w.debug_view.value.partition('\\n')  # type: ignore\n",
    "        first += '.' + msg\n",
    "        self._w.debug_view.value = f\"{first}\\n{rest}\"\n",
    "\n",
    "    # ---------- ---------- UX ---------- ----------\n",
    "    def setup_ux(self, state):\n",
    "        super().setup_ux(state)\n",
    "        self._w.clear_btn.on_click(self.clear)\n",
    "\n",
    "    def __init__(self, text: str = '', **kwargs):\n",
    "        kwargs.pop('dcons', None)\n",
    "        super().__init__(\n",
    "            debug_view=text, \n",
    "            dcons=None, \n",
    "            reflect=False, \n",
    "            widgets = AD(\n",
    "                clear_btn = W.Button(\n",
    "                    description='clear', layout={'position':'absolute','width':'2em'}), \n",
    "                debug_view = W.Textarea(\n",
    "                    value='', layout=W.Layout(width='99.6%', margin='0px', height=\"100%\")), \n",
    "            ),\n",
    "            height = '96px', \n",
    "            **kwargs)\n",
    "\n",
    "@F.patch\n",
    "def _setup_dcons(self: BaseExplorerApp, dcons: bool | DebugWidgetP | None = None):\n",
    "    _dcons = NOOPDCONS\n",
    "    if dcons is True:\n",
    "        _dcons = DebugWidget(show=False)\n",
    "    elif isinstance(dcons, DebugWidget):\n",
    "        _dcons = dcons\n",
    "    assert isinstance(_dcons, DebugWidget | _NoopDebugWidget)\n",
    "    _dcons.clear()\n",
    "    return _dcons\n"
   ]
  },
  {
   "cell_type": "code",
   "execution_count": null,
   "metadata": {},
   "outputs": [
    {
     "data": {
      "application/vnd.jupyter.widget-view+json": {
       "model_id": "7592bc1571a441ceb8e9438c3df1e041",
       "version_major": 2,
       "version_minor": 0
      },
      "text/plain": [
       "Box(children=(DebugWidget(children=(Box(children=(Button(description='clear', layout=Layout(width='2em'), styl…"
      ]
     },
     "metadata": {},
     "output_type": "display_data"
    }
   ],
   "source": [
    "txt = '''asfasd fdf\n",
    "fgsdgfsdfg dfghdfhg\n",
    "sadfsdf {2334} 345456\n",
    "wqewer asasdf {} []'\n",
    "sadflsdfd\n",
    "qopeim, njkhas'''\n",
    "dcons = DebugWidget(txt)"
   ]
  },
  {
   "cell_type": "code",
   "execution_count": null,
   "metadata": {},
   "outputs": [],
   "source": [
    "test_eq(dcons.value, {'debug_view': txt})\n",
    "test_eq(dcons._w.debug_view.value, txt)\n"
   ]
  },
  {
   "cell_type": "code",
   "execution_count": null,
   "metadata": {},
   "outputs": [],
   "source": [
    "dcons.clear()\n",
    "test_eq(dcons.value, {'debug_view': ''})\n",
    "test_eq(dcons._w.debug_view.value, '')\n"
   ]
  },
  {
   "attachments": {},
   "cell_type": "markdown",
   "metadata": {},
   "source": [
    "## Select Detail App"
   ]
  },
  {
   "cell_type": "code",
   "execution_count": null,
   "metadata": {},
   "outputs": [],
   "source": [
    "#| export\n",
    "class SelectDetailApp(BaseExplorerApp):\n",
    "    _css = \"\"\"\n",
    "        .widget-select select, .widget-output .jp-OutputArea {\n",
    "        background-color: transparent;\n",
    "        color: var(--vscode-editor-foreground);\n",
    "    }\n",
    "    \"\"\"\n",
    "    # ---------- ---------- display ---------- ----------\n",
    "    def d(self):\n",
    "        out = self.detail\n",
    "        # print(self.value)\n",
    "        if isinstance(out, W.Output):\n",
    "            v: dict = cast(dict, self.value)\n",
    "            try:\n",
    "                out.append_stdout(f\"{v['select']}\\n\")\n",
    "            except KeyError:\n",
    "                pass\n",
    "        \n",
    "    # ---------- ---------- UI view ---------- ----------\n",
    "    def setup_layout(self):\n",
    "        center = W.Box(\n",
    "                [self.detail],\n",
    "                layout=W.Layout(\n",
    "                    height='100%', width='100%', margin='0px', border='0.1px solid red')\n",
    "            )\n",
    "        return dict(left_sidebar=self.select, center=center)\n",
    "    # ---------- ---------- UX ---------- ----------\n",
    "    def on_value_change(self, change):\n",
    "        out = self.detail\n",
    "        # print(f\"{time.perf_counter()} - {type(self).__name__}.on_value_changed - {change = }\")\n",
    "        if isinstance(out, W.Output):\n",
    "            out.clear_output()  # type: ignore\n",
    "        loop = asyncio.get_event_loop()\n",
    "        loop.call_later(0.1, self.d)\n",
    "        # self.d()\n",
    "    \n",
    "    # def setup_ux(self, state):\n",
    "    #     super().setup_ux(state)\n",
    "\n",
    "    def __init__(self, \n",
    "            select: W.DOMWidget, \n",
    "            detail: W.DOMWidget | None = None, \n",
    "            height: int = 220,\n",
    "            pane_widths: list[int|str] = [2, 4, 3],\n",
    "            pane_heights: list[int|str] = [1, 5, 1],\n",
    "            **kwargs\n",
    "    ):\n",
    "        self.detail = W.Output() if detail is None else detail\n",
    "        self.select = select\n",
    "        super().__init__(\n",
    "            widgets = AD(select=self.select, detail=self.detail),\n",
    "            height = f\"{height}px\",\n",
    "            pane_widths = pane_widths,\n",
    "            pane_heights = pane_heights,\n",
    "            **kwargs\n",
    "        )"
   ]
  },
  {
   "cell_type": "code",
   "execution_count": null,
   "metadata": {},
   "outputs": [
    {
     "data": {
      "application/vnd.jupyter.widget-view+json": {
       "model_id": "61cb79126a904920927be5515cef5f87",
       "version_major": 2,
       "version_minor": 0
      },
      "text/plain": [
       "Box(children=(SelectDetailApp_CSS(), ReflectWidget(), SelectDetailApp(children=(Button(button_style='info', de…"
      ]
     },
     "metadata": {},
     "output_type": "display_data"
    }
   ],
   "source": [
    "left = create_expanded_button('Left', 'info')\n",
    "center = create_expanded_button('Center', 'warning')\n",
    "center.layout.width = '100%'  # type: ignore\n",
    "\n",
    "app = SelectDetailApp(left, center)\n",
    "test_eq(app.value, {})"
   ]
  },
  {
   "cell_type": "code",
   "execution_count": null,
   "metadata": {},
   "outputs": [
    {
     "data": {
      "application/vnd.jupyter.widget-view+json": {
       "model_id": "2b2e0c61d47b467d901f54ab0a398bd0",
       "version_major": 2,
       "version_minor": 0
      },
      "text/plain": [
       "Box(children=(SelectDetailApp_CSS(), ReflectWidget(), SelectDetailApp(children=(Select(layout=Layout(grid_area…"
      ]
     },
     "metadata": {},
     "output_type": "display_data"
    },
    {
     "data": {
      "application/vnd.jupyter.widget-view+json": {
       "model_id": "1a4516d477904dcf86760707c82daf4a",
       "version_major": 2,
       "version_minor": 0
      },
      "text/plain": [
       "DebugWidget(children=(Box(children=(Button(description='clear', layout=Layout(width='2em'), style=ButtonStyle(…"
      ]
     },
     "metadata": {},
     "output_type": "display_data"
    }
   ],
   "source": [
    "options=['Linux', 'Windows', 'macOS', 'Other', 'Other2', '00_imports.ipynb', 'Linux', \n",
    "            'Windows', 'macOS', 'Other', 'Other2', '00_imports.ipynb', 'Other', 'Other2', '00_imports.ipynb']\n",
    "\n",
    "sel = W.Select(\n",
    "    options=options,\n",
    "    value=None,\n",
    "    # layout=W.Layout(width='100%', height='100%', margin='0px', border='0px solid black'),\n",
    "    layout=W.Layout(width='100%', height='100%', margin='0px'),\n",
    "    # layout=W.Layout(width='100%', height='100%'),\n",
    "    disabled=False\n",
    ")\n",
    "\n",
    "app = SelectDetailApp(sel, pane_widths=['120px', 4, 4], dcons=True)\n",
    "sel.observe(lambda x: app.dcons.log(str(sel.value)), names='value')  # type: ignore\n",
    "# app\n",
    "# test_eq(app.value, {'select': 'macOS'})\n",
    "test_eq(app.value, {})\n"
   ]
  },
  {
   "cell_type": "code",
   "execution_count": null,
   "metadata": {},
   "outputs": [],
   "source": [
    "app.select.value = 'Windows'\n",
    "test_eq(app.value, {'select': 'Windows'})\n"
   ]
  },
  {
   "cell_type": "code",
   "execution_count": null,
   "metadata": {},
   "outputs": [],
   "source": [
    "#| export\n",
    "class ListSelect(SelectDetailApp):\n",
    "    def __init__(self, options, value, **kwargs):\n",
    "        sel = W.Select(\n",
    "            options=options,\n",
    "            layout=W.Layout(width='100%', height='100%', margin='0px', border='0px solid red'),\n",
    "            disabled=False\n",
    "        )\n",
    "        super().__init__(sel, \n",
    "                         pane_widths=kwargs.pop('pane_widths', ['120px', 4, 4]), **kwargs)\n",
    "        sel.value = value"
   ]
  },
  {
   "cell_type": "code",
   "execution_count": null,
   "metadata": {},
   "outputs": [
    {
     "data": {
      "application/vnd.jupyter.widget-view+json": {
       "model_id": "24540b41ea454ea3951a366669913430",
       "version_major": 2,
       "version_minor": 0
      },
      "text/plain": [
       "Box(children=(SelectDetailApp_CSS(), ReflectWidget(), ListSelect(children=(Select(layout=Layout(border_bottom=…"
      ]
     },
     "metadata": {},
     "output_type": "display_data"
    }
   ],
   "source": [
    "app = ListSelect(options, value='macOS')\n",
    "test_eq(app.value, {'select': 'macOS'})"
   ]
  },
  {
   "cell_type": "code",
   "execution_count": null,
   "metadata": {},
   "outputs": [],
   "source": [
    "# pd.set_option('display.max_columns', None)\n",
    "# pd.set_option('display.expand_frame_repr', True)\n",
    "# pd.set_option(\"display.width\", 2000)\n",
    "pd.set_option(\"display.max_columns\", None) # show all cols\n",
    "pd.set_option('display.max_colwidth', None) # show full width of showing cols\n",
    "pd.set_option(\"display.expand_frame_repr\", False) # print cols side by side as it's supposed to be"
   ]
  },
  {
   "cell_type": "code",
   "execution_count": null,
   "metadata": {},
   "outputs": [],
   "source": [
    "df = pd.DataFrame({\n",
    "    'int': [1, 2, 3, ]*5,\n",
    "    'float': [3.14, 6.28, 9.42, ]*5,\n",
    "    'str': ['A', 'B', 'C', ]*5,\n",
    "    'bool': [True, False, True, ]*5,\n",
    "    'date': [dt.date(2019, 1, 1), dt.date(2020, 1, 1), dt.date(2020, 1, 10), ]*5,\n",
    "    'datetime': [dt.datetime(2019, 1, 1, 10), dt.datetime(2020, 1, 1, 12), dt.datetime(2020, 1, 10, 13), ]*5,\n",
    "    '1int': [1, 2, 3, ]*5,\n",
    "    '1float': [3.14, 6.28, 9.42, ]*5,\n",
    "    '1str': ['A', 'B', 'C', ]*5,\n",
    "    '1bool': [True, False, True, ]*5,\n",
    "    '1date': [dt.date(2019, 1, 1), dt.date(2020, 1, 1), dt.date(2020, 1, 10), ]*5,\n",
    "    '1datetime': [dt.datetime(2019, 1, 1, 10), dt.datetime(2020, 1, 1, 12), dt.datetime(2020, 1, 10, 13), ]*5,\n",
    "}, index=[1, 2, 3, ]*5)\n"
   ]
  },
  {
   "cell_type": "code",
   "execution_count": null,
   "metadata": {},
   "outputs": [],
   "source": [
    "detail: W.Output = cast(W.Output, app.detail)\n",
    "detail.clear_output()\n"
   ]
  },
  {
   "cell_type": "code",
   "execution_count": null,
   "metadata": {},
   "outputs": [],
   "source": [
    "detail.append_display_data(df.style)\n"
   ]
  },
  {
   "cell_type": "markdown",
   "metadata": {},
   "source": [
    "## Colophon\n",
    "----"
   ]
  },
  {
   "cell_type": "code",
   "execution_count": null,
   "metadata": {},
   "outputs": [],
   "source": [
    "import fastcore.all as F\n",
    "import shutil\n",
    "if F.IN_NOTEBOOK:\n",
    "    import nbdev; nbdev.nbdev_export('01_base_widget.ipynb')\n",
    "shutil.copyfile('src/reflect.js', '../vwidget/static/reflect.js');"
   ]
  }
 ],
 "metadata": {
  "kernelspec": {
   "display_name": "python3",
   "language": "python",
   "name": "python3"
  }
 },
 "nbformat": 4,
 "nbformat_minor": 2
}
