{
 "cells": [
  {
   "cell_type": "code",
   "execution_count": null,
   "metadata": {},
   "outputs": [],
   "source": [
    "#| export\n",
    "from __future__ import annotations\n",
    "# TODO: check what happens if we uncoment above line"
   ]
  },
  {
   "cell_type": "code",
   "execution_count": null,
   "metadata": {},
   "outputs": [],
   "source": [
    "#| default_exp tree_widget"
   ]
  },
  {
   "cell_type": "code",
   "execution_count": null,
   "metadata": {},
   "outputs": [],
   "source": [
    "# %reload_ext autoreload\n",
    "# %autoreload 0"
   ]
  },
  {
   "attachments": {},
   "cell_type": "markdown",
   "metadata": {},
   "source": [
    "# Tree Widget\n",
    "> Simple widgets composition to browse object trees"
   ]
  },
  {
   "attachments": {},
   "cell_type": "markdown",
   "metadata": {},
   "source": [
    "## Prologue"
   ]
  },
  {
   "cell_type": "code",
   "execution_count": null,
   "metadata": {},
   "outputs": [],
   "source": [
    "#| export\n",
    "import asyncio\n",
    "from pathlib import Path\n",
    "from typing import cast\n",
    "from typing import ClassVar\n",
    "from typing import Collection\n",
    "from typing import Generator\n",
    "from typing import Iterable\n",
    "from typing import NamedTuple\n",
    "from typing import Mapping\n",
    "from typing import Protocol\n",
    "from typing import Type\n",
    "from typing import TypeAlias\n",
    "\n",
    "import ipywidgets as W\n",
    "import traitlets as T\n",
    "from ipytree import Node\n",
    "from ipytree import Tree\n",
    "from traitlets import Instance\n",
    "from traitlets import List\n",
    "from traitlets import observe\n",
    "\n",
    "from vutil.vario import is_listy\n",
    "from vwidget.base_widget import SelectDetailApp\n"
   ]
  },
  {
   "cell_type": "code",
   "execution_count": null,
   "metadata": {},
   "outputs": [],
   "source": [
    "import dataclasses\n",
    "import fastcore.all as F\n",
    "# import ipyevents as EVT\n",
    "from fastcore.test import *  # type: ignore [reportWildcardImportFromLibrary]\n",
    "\n",
    "from vutil.imports import AD\n",
    "from vutil.imports import setup_console\n",
    "from vutil.logger_loguru import config_logger\n",
    "from vutil.test import test_raises\n",
    "from vutil.test import test_is_not\n",
    "from vwidget.base_widget import DebugWidget\n",
    "from vwidget.base_widget import ThemerWidget\n"
   ]
  },
  {
   "attachments": {},
   "cell_type": "markdown",
   "metadata": {},
   "source": [
    " ----"
   ]
  },
  {
   "cell_type": "code",
   "execution_count": null,
   "metadata": {},
   "outputs": [],
   "source": [
    "pre = '/Users/vic/dev/repo/project/TBOs/proj/tbos/'"
   ]
  },
  {
   "cell_type": "code",
   "execution_count": null,
   "metadata": {},
   "outputs": [],
   "source": [
    "# %%html\n",
    "# <style>\n",
    "#     .cell-output-ipywidget-background {background-color: rgba(0, 0, 0, 0.0) !important;}\n",
    "#     .jstree {background-color: var(--vscode-editor-background) !important;)}\n",
    "#     .jstree-anchor {color: var(--vscode-editor-foreground) !important;)}\n",
    "# </style>"
   ]
  },
  {
   "attachments": {},
   "cell_type": "markdown",
   "metadata": {},
   "source": [
    "\n",
    " ----"
   ]
  },
  {
   "attachments": {},
   "cell_type": "markdown",
   "metadata": {},
   "source": [
    "## AnyTreeWidget"
   ]
  },
  {
   "cell_type": "code",
   "execution_count": null,
   "metadata": {},
   "outputs": [],
   "source": [
    "#| exporti\n",
    "\n",
    "def _get_name(name: str | None, value) -> str:\n",
    "    try:\n",
    "        return name or getattr(value, 'name')\n",
    "    except AttributeError:\n",
    "        pass\n",
    "    return type(value).__name__ if is_listy(value) else str(value)\n"
   ]
  },
  {
   "cell_type": "code",
   "execution_count": null,
   "metadata": {},
   "outputs": [],
   "source": [
    "#| export\n",
    "class NamedP(Protocol):\n",
    "    @property\n",
    "    def name(self) -> str: ...\n",
    "\n",
    "AnyTreePath: TypeAlias = tuple[int, ...]\n",
    "\n",
    "class AnyNodeItem(NamedTuple):\n",
    "    path: AnyTreePath\n",
    "    node: AnyTreeNode\n",
    "\n",
    "class ValueNode(Node):\n",
    "    value: object\n",
    "    # value = T.Instance(klass=object, read_only=True)\n",
    "    _icon_: ClassVar[str] = 'archive'\n",
    "    def __init__(self, value:object, name: str | None = None, **kwargs):\n",
    "        self.value = value\n",
    "        # self.set_trait('value', value)\n",
    "        super().__init__(\n",
    "            _get_name(name, value), \n",
    "            icon=kwargs.pop('icon', self._icon_), \n",
    "            **kwargs)\n",
    "    def _repr_keys(self):\n",
    "        return ('value', 'name', 'selected')\n",
    "    def __getitem__(self, path):\n",
    "        raise IndexError(f'ValueNode has no children: {self.name}')\n",
    "    def _iter(self, at: AnyTreePath | None = None) -> Generator[tuple[AnyTreePath, AnyTreeNode], None, None]:\n",
    "        yield (at or (), self)\n",
    "\n",
    "class FolderNode(Node):\n",
    "    value: Collection[object]\n",
    "    # value = T.Tuple(read_only=True).tag(trait=T.Instance(object))\n",
    "    _icon_closed_: ClassVar[str] = 'folder'\n",
    "    _icon_opened_: ClassVar[str] = 'folder-open'\n",
    "    _close_icon_: ClassVar[str] = 'chevron-down'\n",
    "    _open_icon_: ClassVar[str] = 'chevron-right'\n",
    "\n",
    "    def __init__(self, \n",
    "            value: Collection[object], \n",
    "            name: str | None = None, \n",
    "            nodes: Collection[Node] = (), \n",
    "            **kwargs\n",
    "        ):\n",
    "        self._to = None\n",
    "        self.value = value\n",
    "        # self.set_trait('value', value)\n",
    "        opened = kwargs.pop('opened', False)\n",
    "        super().__init__(\n",
    "            name = _get_name(name, value), \n",
    "            nodes = nodes,\n",
    "            icon = kwargs.pop('icon', self._icon_opened_ if opened else self._icon_closed_), \n",
    "            opened = opened,\n",
    "            close_icon = kwargs.pop('close_icon', self._close_icon_),\n",
    "            open_icon = kwargs.pop('open_icon', self._open_icon_),\n",
    "            **kwargs)\n",
    "    def _repr_keys(self):\n",
    "        return ('name', 'selected', 'opened',)\n",
    "    def _iter(self, at: AnyTreePath | None = None) -> Generator[AnyNodeItem, None, None]:\n",
    "        at = at or ()\n",
    "        yield AnyNodeItem(at, self)\n",
    "        for i,node in enumerate(self.nodes):  # type: ignore\n",
    "            yield from node._iter(at + (i,))\n",
    "    def __getitem__(self, path: int | AnyTreePath) -> ValueNode | FolderNode:\n",
    "        path = (path, ) if isinstance(path, int) else path\n",
    "        node = self.nodes[path[0]]  # type: ignore\n",
    "        return node if len(path) == 1 else node[path[1:]]\n",
    "\n",
    "class TreeAdapter:\n",
    "    _items_str_: ClassVar[str] = 'items'\n",
    "\n",
    "    @classmethod\n",
    "    def is_folder(cls, x: object) -> bool:\n",
    "        if isinstance(x, Collection) and not isinstance(x, (str, bytes)):\n",
    "            return True\n",
    "        items = getattr(x, cls._items_str_, None)\n",
    "        return bool(items and isinstance(items, Iterable))\n",
    "\n",
    "    @classmethod\n",
    "    def items(cls, value) -> Generator[tuple[str, object], None, None]:\n",
    "        if isinstance(value, Mapping):\n",
    "            for kv in value.items():\n",
    "                yield kv\n",
    "        elif isinstance(value, Iterable):\n",
    "            for v in value:\n",
    "                yield (_get_name(None, v), v)\n",
    "        elif hasattr(value, cls._items_str_):\n",
    "            pp = [(_get_name(None, v), v) for v in value.items]\n",
    "            pp = sorted(pp, key=lambda x: x[0])\n",
    "            for p in pp:\n",
    "                yield p\n",
    "        else:\n",
    "            raise TypeError(f\"{value = }\")\n",
    "\n",
    "AnyTreeNode: TypeAlias = ValueNode | FolderNode\n",
    "\n",
    "_FOLDER_SENTINEL = ValueNode(None, name='FOLDER_SENTINEL')\n",
    "\n",
    "class AnyTreeWidget(Tree):\n",
    "    source = List(())\n",
    "    _adapter_: ClassVar[TreeAdapter] = TreeAdapter()\n",
    "    _value_node_: ClassVar[Type[ValueNode]] = ValueNode\n",
    "    _folder_node_: ClassVar[Type[FolderNode]] = FolderNode\n",
    "    \n",
    "    value = T.Tuple().tag(trait=Instance(Node))\n",
    "    # selected_nodes = Tuple(read_only=True).tag(trait=Instance(Node),sync=True, **widget_serialization)\n",
    "    selected_paths = T.Tuple().tag(trait=Instance(tuple))\n",
    "\n",
    "    def __init__(self, \n",
    "            source: Collection[object], \n",
    "            adapter: Type[TreeAdapter] | None = None, \n",
    "            select: AnyTreePath = (),\n",
    "            expand: AnyTreePath = (),\n",
    "            **kwargs):\n",
    "        if adapter:\n",
    "            setattr(self, '_adapter_', adapter())\n",
    "        super().__init__(\n",
    "            stripes=kwargs.pop('stripes', True), \n",
    "            multiple_selection=kwargs.pop('multiple_selection', False), \n",
    "            animation=100, \n",
    "            **kwargs)\n",
    "        self.layout.overflow = 'scroll scroll'  # type: ignore\n",
    "        self.source = source\n",
    "        self._link = W.dlink((self, 'selected_nodes'), (self, 'value'))\n",
    "        if select:\n",
    "            self.select(select)\n",
    "        if expand:\n",
    "            self.expand(expand)\n",
    "\n",
    "    def _setup_node(self, value, name: str | None = None, **kwargs):\n",
    "        adapter = self._adapter_\n",
    "        if adapter.is_folder(value):\n",
    "            nodes = [self._setup_node(v, name=k) for k,v in adapter.items(value)]\n",
    "            # nodes = [_FOLDER_SENTINEL]\n",
    "            folder = self._folder_node_(value, name=_get_name(name, value), nodes=nodes, **kwargs)\n",
    "            folder.observe(self.handle_click, 'opened')  # type: ignore\n",
    "            return folder\n",
    "        else:\n",
    "            return self._value_node_(value, name=name)  \n",
    "    \n",
    "    # ---------- traversal\n",
    "    def _iter(self, at: AnyTreePath | None = None) -> Generator[AnyNodeItem, None, None]:\n",
    "        for i, node in enumerate(cast(Collection, self.nodes)):\n",
    "            yield from node._iter((at or ())+(i,))\n",
    "    \n",
    "    def find_node(self, value: object) -> AnyTreeNode | None:\n",
    "        for path, node in self._iter():\n",
    "            if node.value == value:\n",
    "                return node\n",
    "        return None\n",
    "    def find_all_nodes(self, value: object) -> tuple[AnyTreeNode, ...]:\n",
    "        return tuple(node for path, node in self._iter() if node.value == value)\n",
    "    def paths_of_value(self, value: object) -> tuple[AnyTreePath, ...]:\n",
    "        return tuple(path for path, _ in self._iter() if _.value == value)\n",
    "    def nodes_of_value(self, value: object) -> tuple[AnyTreeNode, ...]:\n",
    "        return tuple(node for _, node in self._iter() if node.value == value)\n",
    "    def path_of_node(self, node: AnyTreeNode) -> AnyTreePath | None:\n",
    "        for path,_ in self._iter():\n",
    "            if _ is node:\n",
    "                return path\n",
    "        return None\n",
    "    \n",
    "    def __getitem__(self, path: int | AnyTreePath) -> AnyTreeNode:\n",
    "        _path: AnyTreePath = (path, ) if isinstance(path, int) else path\n",
    "        node = self.nodes[_path[0]]\n",
    "        return node if len(_path) == 1 else node[_path[1:]]\n",
    "    \n",
    "    # ---------- UX\n",
    "    def handle_click(self, event):\n",
    "        folder = event['owner']\n",
    "        # if folder.nodes[0] is _FOLDER_SENTINEL:\n",
    "        #     adapter = self._adapter_\n",
    "        #     nodes = [self._setup_node(v, name=k) for k,v in adapter.items(folder.value)]\n",
    "        #     folder.nodes = nodes\n",
    "        #     # with self.hold_trait_notifications():\n",
    "        #     #     # folder.remove_node(_FOLDER_SENTINEL)\n",
    "        #     #     folder.add_node(nodes[0])\n",
    "        #     #     folder.add_node(nodes[1])\n",
    "        #     # loop = asyncio.get_event_loop()\n",
    "        #     # loop.call_soon(lambda: self.handle_click(event))\n",
    "        #     return\n",
    "        folder.icon = folder._icon_opened_ if event['new'] else folder._icon_closed_\n",
    "\n",
    "    def select(self, path_or_node: AnyTreePath | AnyTreeNode | object, scroll: bool = False):\n",
    "        if isinstance(path_or_node, tuple):\n",
    "            nodes = (self[path_or_node], )\n",
    "        elif isinstance(path_or_node, (ValueNode, FolderNode)):\n",
    "            nodes = (path_or_node, )\n",
    "        else:\n",
    "            nodes = self.nodes_of_value(path_or_node)\n",
    "        self.value = nodes\n",
    "\n",
    "    def expand(self, path_or_node: AnyTreePath | AnyTreeNode | object, scroll: bool = False):\n",
    "        if isinstance(path_or_node, tuple):\n",
    "            path = path_or_node\n",
    "        elif isinstance(path_or_node, (ValueNode, FolderNode)):\n",
    "            path = self.path_of_node(path_or_node)\n",
    "        else:\n",
    "            path = ()\n",
    "            paths = self.paths_of_value(path_or_node)\n",
    "            if paths:\n",
    "                path = paths[0]\n",
    "        if path:\n",
    "            node = self\n",
    "            for _ in path:\n",
    "                node = node[_]\n",
    "                if not node.opened:\n",
    "                    node.opened = True\n",
    "            # self[path].opened = True\n",
    "        # if scroll:\n",
    "        #     self.scroll_to_node(node)\n",
    "    \n",
    "    @observe('source')\n",
    "    def _observe_source(self, change):\n",
    "        source: Collection[object] = change['new']\n",
    "        nodes, open_folder = [], False\n",
    "        for v in source:\n",
    "            n = self._setup_node(v, name=None, opened=open_folder)\n",
    "            if open_folder and isinstance(n, self._folder_node_):\n",
    "                open_folder = False\n",
    "            nodes.append(n)\n",
    "        self.nodes = nodes\n",
    "\n",
    "    @observe('value')\n",
    "    def _observe_value(self, change):\n",
    "        new_selected = change['new']\n",
    "        # print(f\"{change['old'] = }, {change['new'] = }\")\n",
    "        if new_selected != self.selected_nodes:\n",
    "            # this code path is taken only when setting the value programmatically\n",
    "            with self.hold_trait_notifications():\n",
    "                for node in change['new']:\n",
    "                    if not node.selected:\n",
    "                        node.selected = True\n",
    "                selected = change['old']\n",
    "                if selected is not T.Undefined:\n",
    "                    for node in selected:\n",
    "                        if node.selected:\n",
    "                            node.selected = False\n",
    "        # print(f\"{self.value =}\")\n",
    "        # # self.notify_change = lambda x: None  # type:ignore[assignment]\n",
    "        # # try:\n",
    "        # #     self.selected_paths = tuple(self.path_of_node(_) for _ in self.value)\n",
    "        # # finally:\n",
    "        # #     del self.notify_change\n",
    "        # self.set_trait('selected_nodes', tuple(self.path_of_node(_) for _ in self.value))\n",
    "        self.selected_paths = tuple(self.path_of_node(_) for _ in self.value)  # type:ignore\n",
    "\n",
    "    @observe('selected_paths')\n",
    "    def _observe_selected_paths(self, change):\n",
    "        new_value = tuple(self[_] for _ in change['new'])\n",
    "        if new_value != self.value:\n",
    "            self.value = tuple(self[_] for _ in change['new'])\n",
    "        \n",
    "\n",
    "    # @observe('selected_nodes')\n",
    "    # def _observe_selected_nodes(self, change):\n",
    "    #     v = change['new']\n",
    "    #     self.value = tuple(node.value for node in v)\n",
    "    #     # print(f\"value = {self.value}\")\n",
    "\n",
    "    # @property\n",
    "    # def value(self) -> object | tuple[object, ...] | None: return self._value\n",
    "    # @value.setter\n",
    "    # def value(self, values: tuple[object, ...] | None):\n",
    "    #     vv: tuple[object, ...] = values or ()\n",
    "    #     if not self.multiple_selection:\n",
    "    #         vv = vv[:1]\n",
    "    #     to_select = [self.find(v) for v in vv]\n",
    "    #     for _ in cast(Collection, self.selected_nodes):\n",
    "    #         _.selected = False\n",
    "    #     for _ in to_select:\n",
    "    #         if _:\n",
    "    #             _.selected = True\n",
    "    #     self._value = vv\n",
    "    #     # print(f\"{self._value = }\")\n"
   ]
  },
  {
   "cell_type": "code",
   "execution_count": null,
   "metadata": {},
   "outputs": [],
   "source": [
    "node = ValueNode(7, 'node')\n",
    "test_eq(f\"{node}\", \"ValueNode(value=7, name='node', selected=False)\")\n",
    "\n",
    "folder = FolderNode([7, 13], 'folder')\n",
    "test_eq(f\"{folder}\", \"FolderNode(name='folder', selected=False, opened=False)\")\n",
    "test_eq(folder.value, [7, 13])\n"
   ]
  },
  {
   "cell_type": "code",
   "execution_count": null,
   "metadata": {},
   "outputs": [
    {
     "data": {
      "application/vnd.jupyter.widget-view+json": {
       "model_id": "dfc9c51fbb8d4948b51e69116a06bb16",
       "version_major": 2,
       "version_minor": 0
      },
      "text/plain": [
       "AnyTreeWidget(animation=100, layout=Layout(overflow='scroll scroll'), multiple_selection=False)"
      ]
     },
     "execution_count": null,
     "metadata": {},
     "output_type": "execute_result"
    }
   ],
   "source": [
    "data = []\n",
    "tree = AnyTreeWidget(data)\n",
    "tree\n"
   ]
  },
  {
   "cell_type": "code",
   "execution_count": null,
   "metadata": {},
   "outputs": [],
   "source": [
    "test_eq(tree.value, ())\n",
    "test_eq(tree.selected_nodes, ())\n",
    "test_eq(tuple(_ for _ in tree._iter()), ())\n"
   ]
  },
  {
   "cell_type": "code",
   "execution_count": null,
   "metadata": {},
   "outputs": [
    {
     "data": {
      "application/vnd.jupyter.widget-view+json": {
       "model_id": "71dd779f75214445a57de0584afd7aeb",
       "version_major": 2,
       "version_minor": 0
      },
      "text/plain": [
       "AnyTreeWidget(animation=100, layout=Layout(overflow='scroll scroll'), multiple_selection=False, nodes=(ValueNo…"
      ]
     },
     "execution_count": null,
     "metadata": {},
     "output_type": "execute_result"
    }
   ],
   "source": [
    "data = [1, 2]\n",
    "tree = AnyTreeWidget(data)\n",
    "tree\n"
   ]
  },
  {
   "cell_type": "code",
   "execution_count": null,
   "metadata": {},
   "outputs": [],
   "source": [
    "test_eq(tree.value, ())\n",
    "test_eq(tree.selected_nodes, ())\n",
    "test_eq(tuple(_[1].value for _ in tree._iter()), (1, 2))\n"
   ]
  },
  {
   "cell_type": "code",
   "execution_count": null,
   "metadata": {},
   "outputs": [
    {
     "data": {
      "application/vnd.jupyter.widget-view+json": {
       "model_id": "b27621fbe5e948ad9b8714bb0e316689",
       "version_major": 2,
       "version_minor": 0
      },
      "text/plain": [
       "AnyTreeWidget(animation=100, layout=Layout(overflow='scroll scroll'), multiple_selection=False, nodes=(ValueNo…"
      ]
     },
     "execution_count": null,
     "metadata": {},
     "output_type": "execute_result"
    }
   ],
   "source": [
    "data = [1, [2, 3], 4, 5, [6, 7, [8, 9], 10]]\n",
    "tree = AnyTreeWidget(data)\n",
    "tree"
   ]
  },
  {
   "cell_type": "code",
   "execution_count": null,
   "metadata": {},
   "outputs": [],
   "source": [
    "tree.expand((4, 2))\n",
    "test_eq(tree[4].opened, True)\n",
    "test_eq(tree[4, 2].opened, True)\n",
    "test_eq(tree.value, ())\n"
   ]
  },
  {
   "cell_type": "code",
   "execution_count": null,
   "metadata": {},
   "outputs": [],
   "source": [
    "tree.select((4, 2))\n",
    "test_eq(tree[4, 2].selected, True)\n",
    "test_eq(tree.selected_nodes, ())\n"
   ]
  },
  {
   "cell_type": "code",
   "execution_count": null,
   "metadata": {},
   "outputs": [],
   "source": [
    "tree.value = ()\n",
    "test_eq(tuple(_[1].value for _ in tree._iter()), \n",
    "        (1, [2, 3], 2, 3, 4, 5, [6, 7, [8, 9], 10], 6, 7, [8, 9], 8, 9, 10))\n",
    "tree.nodes[1][1].selected = True\n",
    "test_eq(tree.value, ())\n"
   ]
  },
  {
   "attachments": {},
   "cell_type": "markdown",
   "metadata": {},
   "source": [
    "We've got to wait for the round-trip between  server and client to get the updated widgets values."
   ]
  },
  {
   "cell_type": "code",
   "execution_count": null,
   "metadata": {},
   "outputs": [],
   "source": [
    "test_eq(tree.value, (tree[1, 1],))\n",
    "test_eq(tree.value, tree.selected_nodes)\n",
    "test_eq(tree.selected_paths, ((1, 1),))\n"
   ]
  },
  {
   "cell_type": "code",
   "execution_count": null,
   "metadata": {},
   "outputs": [],
   "source": [
    "tree.value = ()\n",
    "test_eq(tree.value, ())\n",
    "test_ne(tree.value, tree.selected_nodes)  # must wait traitlets sync\n"
   ]
  },
  {
   "cell_type": "code",
   "execution_count": null,
   "metadata": {},
   "outputs": [],
   "source": [
    "test_eq(tree.value, tree.selected_nodes)\n"
   ]
  },
  {
   "cell_type": "code",
   "execution_count": null,
   "metadata": {},
   "outputs": [],
   "source": [
    "tree.selected_paths = ((1, 0), )\n",
    "test_eq(tree.value, (tree[1, 0],))\n",
    "test_ne(tree.value, tree.selected_nodes)\n"
   ]
  },
  {
   "cell_type": "code",
   "execution_count": null,
   "metadata": {},
   "outputs": [],
   "source": [
    "test_eq(tree.value, tree.selected_nodes)\n"
   ]
  },
  {
   "cell_type": "code",
   "execution_count": null,
   "metadata": {},
   "outputs": [
    {
     "data": {
      "application/vnd.jupyter.widget-view+json": {
       "model_id": "0e64c3cf34da40b1838ca1bc0dd295b1",
       "version_major": 2,
       "version_minor": 0
      },
      "text/plain": [
       "AnyTreeWidget(animation=100, layout=Layout(overflow='scroll scroll'), multiple_selection=False, nodes=(ValueNo…"
      ]
     },
     "execution_count": null,
     "metadata": {},
     "output_type": "execute_result"
    }
   ],
   "source": [
    "data = [1, [2, 3], 4, 5, [6, 7, 8, 9], 10, [11, [12, [13, 14, 15]]], 6]\n",
    "tree = AnyTreeWidget(data)\n",
    "tree\n"
   ]
  },
  {
   "cell_type": "code",
   "execution_count": null,
   "metadata": {},
   "outputs": [],
   "source": [
    "n = tree.find_node(4)\n",
    "test_is_not(n, None)\n",
    "test_eq((n.value, n.name), (4, '4'))  # type: ignore\n",
    "\n",
    "nn = tree.find_all_nodes(6)\n",
    "test_eq(len(nn), 2)\n",
    "test_eq((nn[0].value, nn[0].name), (6, '6'))\n",
    "test_eq((nn[1].value, nn[1].name), (6, '6'))\n"
   ]
  },
  {
   "cell_type": "code",
   "execution_count": null,
   "metadata": {},
   "outputs": [],
   "source": [
    "with test_raises(IndexError):\n",
    "    tree[1, 0, 0]\n",
    "with test_raises(IndexError):\n",
    "    tree[(12,)]\n",
    "with test_raises(IndexError):\n",
    "    tree[()]\n",
    "test_eq(tree[1, 0].value, 2)\n",
    "test_eq(tree[1, 0].value, 2)\n",
    "test_eq(tree[6, 1, 1, 0].value, 13)\n",
    "test_eq(tree[6, 1, 1, -1].value, 15)\n",
    "test_eq(tree[6, 1, 1].value, [13, 14, 15])\n"
   ]
  },
  {
   "cell_type": "code",
   "execution_count": null,
   "metadata": {},
   "outputs": [],
   "source": [
    "test_eq(tree.paths_of_value(1), ((0,), ))\n",
    "test_eq(tree.paths_of_value(6), ((4, 0, ), (7,), ))\n",
    "test_eq(tree.path_of_node(tree[4, 0]), (4, 0, ))\n",
    "test_eq(tree.paths_of_value(13), ((6, 1, 1, 0), ))\n",
    "test_eq(tree.path_of_node(tree[6, 1, 1, 0]), (6, 1, 1, 0))\n"
   ]
  },
  {
   "cell_type": "code",
   "execution_count": null,
   "metadata": {},
   "outputs": [],
   "source": [
    "# tree.unobserve_all()\n"
   ]
  },
  {
   "cell_type": "code",
   "execution_count": null,
   "metadata": {},
   "outputs": [
    {
     "data": {
      "application/vnd.jupyter.widget-view+json": {
       "model_id": "7d07e3ed82874a7589507b701aa149d5",
       "version_major": 2,
       "version_minor": 0
      },
      "text/plain": [
       "Box(children=(SelectDetailApp_CSS(), ReflectWidget(), SelectDetailApp(children=(AnyTreeWidget(animation=100, l…"
      ]
     },
     "metadata": {},
     "output_type": "display_data"
    },
    {
     "data": {
      "application/vnd.jupyter.widget-view+json": {
       "model_id": "88a4b68f8c2d48adbea26cf2c419892f",
       "version_major": 2,
       "version_minor": 0
      },
      "text/plain": [
       "DebugWidget(children=(Box(children=(Button(description='clear', layout=Layout(width='2em'), style=ButtonStyle(…"
      ]
     },
     "metadata": {},
     "output_type": "display_data"
    }
   ],
   "source": [
    "dcons = DebugWidget(show=False)\n",
    "tree.observe(\n",
    "    lambda x: dcons.log(str(tree.selected_paths)), names='selected_paths')  # type: ignore\n",
    "\n",
    "app = SelectDetailApp(tree, dcons=dcons)\n"
   ]
  },
  {
   "cell_type": "code",
   "execution_count": null,
   "metadata": {},
   "outputs": [
    {
     "data": {
      "application/vnd.jupyter.widget-view+json": {
       "model_id": "386d259f375741e6a085002ad73b2e9f",
       "version_major": 2,
       "version_minor": 0
      },
      "text/plain": [
       "ThemerWidget()"
      ]
     },
     "execution_count": null,
     "metadata": {},
     "output_type": "execute_result"
    }
   ],
   "source": [
    "tw = ThemerWidget()\n",
    "tw"
   ]
  },
  {
   "attachments": {},
   "cell_type": "markdown",
   "metadata": {},
   "source": [
    "## TreeSelect"
   ]
  },
  {
   "cell_type": "code",
   "execution_count": null,
   "metadata": {},
   "outputs": [],
   "source": [
    "#| export\n",
    "class TreeSelect(SelectDetailApp):\n",
    "    _css = \"\"\"\n",
    "        .widget-output .jp-OutputArea {\n",
    "            background-color: transparent;\n",
    "            color: var(--vscode-editor-foreground);\n",
    "        }\n",
    "        .jstree {background-color: var(--vscode-editor-background) !important;)}\n",
    "        .jstree-anchor {color: var(--vscode-editor-foreground) !important;)}\n",
    "        a.jstree-anchor { pointer-events: none; }  # disable click, vscode bug\n",
    "    \"\"\"\n",
    "    def _on_select_change(self, changed):\n",
    "        nodes = tuple(AnyNodeItem(self.tree.path_of_node(_), _) for _ in changed['new'])  # type: ignore\n",
    "        self.value = dict(select=nodes)\n",
    "        self.d()\n",
    "\n",
    "    # def setup_ux(self, state):\n",
    "    #     super().setup_ux(state)\n",
    "    #     tree = self.select\n",
    "    #     tree.observe(lambda x: self._on_select_change(x), names='selected_nodes')  # type: ignore\n",
    "\n",
    "        # super()._setup_ux()\n",
    "        # dcons = self.dcons\n",
    "        # if dcons:\n",
    "        #     tree.observe(lambda x: dcons.log(str(tree.value)), names='selected_nodes')  # type: ignore\n",
    "    \n",
    "    def __init__(self, \n",
    "            data, \n",
    "            tree_class: Type[AnyTreeWidget] = AnyTreeWidget, \n",
    "            multiple_selection = False,\n",
    "            expand: AnyTreePath = (),\n",
    "            select_path: AnyTreePath = (),\n",
    "            **kwargs\n",
    "        ):\n",
    "        self.tree = tree_class(data, multiple_selection=multiple_selection, expand=expand)\n",
    "        super().__init__(self.tree, **kwargs)\n",
    "        if select_path:\n",
    "            loop = asyncio.get_event_loop()\n",
    "            loop.call_later(0.5, lambda: self.tree.select(select_path))\n"
   ]
  },
  {
   "cell_type": "code",
   "execution_count": null,
   "metadata": {},
   "outputs": [
    {
     "data": {
      "application/vnd.jupyter.widget-view+json": {
       "model_id": "7b0ccd32a1b347528f87dea8306df9c5",
       "version_major": 2,
       "version_minor": 0
      },
      "text/plain": [
       "Box(children=(SelectDetailApp_CSS(), ReflectWidget(), TreeSelect(children=(AnyTreeWidget(animation=100, layout…"
      ]
     },
     "metadata": {},
     "output_type": "display_data"
    }
   ],
   "source": [
    "data = [1, [2, 3], 4, 5, [6, 7, 8, 9], 10, [11, [12, [13, 14, 15]]], 6]\n",
    "# tree = AnyTreeWidget(data)\n",
    "\n",
    "# height = 220\n",
    "# dcons = DebugWidget(show=False, height=height-4)\n",
    "# dcons = DebugWidget(show=False)\n",
    "# tree.observe(lambda x: dcons.log(str(tree.value)), names='selected_nodes')  # type: ignore\n",
    "\n",
    "# select_detail_app(tree, dcons.form, height=height)\n",
    "app = TreeSelect(data, multiple_selection=True, pane_widths=['120px', 4, 4])\n"
   ]
  },
  {
   "attachments": {},
   "cell_type": "markdown",
   "metadata": {},
   "source": [
    "Node interactive modifications are reflected asynchronously."
   ]
  },
  {
   "cell_type": "code",
   "execution_count": null,
   "metadata": {},
   "outputs": [],
   "source": [
    "old_value = app.value\n",
    "for _ in app.tree.selected_nodes:  # type: ignore\n",
    "    _.selected = False\n",
    "app.tree[1, 0].selected = True # or app.tree.value = (app.tree[1, 0], )\n",
    "test_eq(app.value, old_value)\n"
   ]
  },
  {
   "attachments": {},
   "cell_type": "markdown",
   "metadata": {},
   "source": [
    "Unlike setting the widgets value directlly"
   ]
  },
  {
   "cell_type": "code",
   "execution_count": null,
   "metadata": {},
   "outputs": [],
   "source": [
    "app.tree.value = (app.tree[1, 1], )\n",
    "test_eq(app.value, {'select': (app.tree[1, 1], )})\n",
    "test_eq(app.tree.selected_nodes, (app.tree[1, 0], ))\n"
   ]
  },
  {
   "attachments": {},
   "cell_type": "markdown",
   "metadata": {},
   "source": [
    "but note app.value is updated asynchonously in a notebook context"
   ]
  },
  {
   "cell_type": "code",
   "execution_count": null,
   "metadata": {},
   "outputs": [],
   "source": [
    "test_eq(app.value, {'select': (app.tree[1, 1],)})\n",
    "test_eq(app.tree.value, app.tree.selected_nodes)\n",
    "test_eq(app.tree.selected_nodes, (app.tree[1, 1], ))\n"
   ]
  },
  {
   "cell_type": "code",
   "execution_count": null,
   "metadata": {},
   "outputs": [],
   "source": [
    "n = app.tree.find_node(4)\n",
    "test_eq(n, app.tree[2])"
   ]
  },
  {
   "cell_type": "code",
   "execution_count": null,
   "metadata": {},
   "outputs": [],
   "source": [
    "data = [{'a':1, 'b':[2, 3], 'c':4, 'd':5, 'e':[6, 7, 8, 9], 'f':10}]\n",
    "app.tree.source = data\n"
   ]
  },
  {
   "cell_type": "code",
   "execution_count": null,
   "metadata": {},
   "outputs": [],
   "source": [
    "n = app.tree.find_node(4)\n",
    "assert n is not None\n",
    "test_eq(n.name, 'c')"
   ]
  },
  {
   "cell_type": "code",
   "execution_count": null,
   "metadata": {},
   "outputs": [
    {
     "data": {
      "application/vnd.jupyter.widget-view+json": {
       "model_id": "0eb44dfa4f284fa0aec741af695d52ea",
       "version_major": 2,
       "version_minor": 0
      },
      "text/plain": [
       "Box(children=(SelectDetailApp_CSS(), ReflectWidget(), TreeSelect(children=(AnyTreeWidget(animation=100, layout…"
      ]
     },
     "metadata": {},
     "output_type": "display_data"
    }
   ],
   "source": [
    "@dataclasses.dataclass\n",
    "class A:\n",
    "    name: str\n",
    "\n",
    "@dataclasses.dataclass\n",
    "class B(A):\n",
    "    items: list[A | B]\n",
    "\n",
    "data = [\n",
    "    A('a'), \n",
    "    B('b', [A('c'), \n",
    "            B('d', [A('e'), A('f'), A('g'), A('h')]), \n",
    "            A('i'), A('j'), A('k'), A('l'), A('m'), A('n'), A('o')]),\n",
    "    B('p', [A('q'), A('r'), A('s'), A('t'), A('u'), A('v'), A('w'), A('x'), A('y'), A('z')])\n",
    "]\n",
    "# tree = AnyTreeWidget(data)\n",
    "\n",
    "# height = 220\n",
    "# dcons = DebugWidget(show=False, height=height-4)\n",
    "# tree.observe(lambda x: dcons.log(str(tree.value)), names='selected_nodes')  # type: ignore\n",
    "\n",
    "# select_detail_app(tree, dcons.form, height=height)\n",
    "app = TreeSelect(data, pane_widths=['130px', 4, 4])\n"
   ]
  },
  {
   "attachments": {},
   "cell_type": "markdown",
   "metadata": {},
   "source": [
    "## FilesWidget"
   ]
  },
  {
   "cell_type": "code",
   "execution_count": null,
   "metadata": {},
   "outputs": [],
   "source": [
    "#| exporti\n",
    "class FileNode(ValueNode):\n",
    "    _icon_: ClassVar[str] = 'file'\n",
    "\n",
    "class FilesTreeAdapter(TreeAdapter):\n",
    "    @classmethod\n",
    "    def is_folder(cls, x: Path) -> bool: return not x.is_file()\n",
    "    @classmethod\n",
    "    def items(cls, value):\n",
    "        pp = [(p.name, p) for p in value.iterdir() if not p.name.startswith('.')]\n",
    "        pp = sorted(pp, key=lambda x: x[0])\n",
    "        for p in pp:\n",
    "            yield p\n"
   ]
  },
  {
   "cell_type": "code",
   "execution_count": null,
   "metadata": {},
   "outputs": [],
   "source": [
    "#| export\n",
    "class FilesWidget(AnyTreeWidget):\n",
    "    _adapter_ = FilesTreeAdapter()\n",
    "    _value_node_ = FileNode\n"
   ]
  },
  {
   "cell_type": "code",
   "execution_count": null,
   "metadata": {},
   "outputs": [
    {
     "data": {
      "application/vnd.jupyter.widget-view+json": {
       "model_id": "e97600ba6e89476896cff3d1b9914849",
       "version_major": 2,
       "version_minor": 0
      },
      "text/plain": [
       "Box(children=(SelectDetailApp_CSS(), ReflectWidget(), TreeSelect(children=(FilesWidget(animation=100, layout=L…"
      ]
     },
     "metadata": {},
     "output_type": "display_data"
    },
    {
     "data": {
      "application/vnd.jupyter.widget-view+json": {
       "model_id": "471a0e751cde4afda37ef35322a107c9",
       "version_major": 2,
       "version_minor": 0
      },
      "text/plain": [
       "DebugWidget(children=(Box(children=(Button(description='clear', layout=Layout(width='2em'), style=ButtonStyle(…"
      ]
     },
     "metadata": {},
     "output_type": "display_data"
    }
   ],
   "source": [
    "# tree = FilesWidget([Path(pre + 'tests/images/other')])\n",
    "\n",
    "height = 420\n",
    "# dcons = DebugWidget(show=False, height=height-4)\n",
    "# tree.observe(lambda x: dcons.log(str(tree.value)), names='selected_nodes')  # type: ignore\n",
    "\n",
    "# select_detail_app(tree, dcons.form, height=height, widths=[1, 2, 1])\n",
    "app = TreeSelect([Path(pre + 'tests/images/other')], tree_class=FilesWidget, \n",
    "                    expand=(0,),\n",
    "                    dcons=True,\n",
    "                    height=height, pane_widths=[1, 2, 1])\n",
    "# app.tree.observe(lambda x: app.dcons.log(app.tree.path_of_node(x['new'][-1])), names='value')  # type: ignore\n",
    "app.tree.observe(lambda x: app.dcons.log(app.tree.selected_paths), names='value')  # type: ignore\n",
    "# app.tree.observe(lambda x: app.dcons.log(x['new']), names='value')  # type: ignore\n",
    "test_eq(app.value, {})\n"
   ]
  },
  {
   "cell_type": "code",
   "execution_count": null,
   "metadata": {},
   "outputs": [],
   "source": [
    "app.tree.value = ()\n"
   ]
  },
  {
   "cell_type": "code",
   "execution_count": null,
   "metadata": {},
   "outputs": [],
   "source": [
    "nodes = app.tree.nodes_of_value(Path(pre + 'tests/images/other/grid.png'))\n",
    "app.tree.value = nodes\n",
    "test_eq(app.value, {'select': nodes})\n"
   ]
  },
  {
   "cell_type": "code",
   "execution_count": null,
   "metadata": {},
   "outputs": [],
   "source": [
    "nodes = app.tree.nodes_of_value(Path(pre + 'tests/images/other/puppy/puppy-facemask8.tif'))\n",
    "app.tree.select(Path(pre + 'tests/images/other/puppy/puppy-facemask8.tif'))\n",
    "test_eq(app.value, {'select': nodes})\n"
   ]
  },
  {
   "cell_type": "code",
   "execution_count": null,
   "metadata": {},
   "outputs": [],
   "source": [
    "node = app.tree.find_node(Path(pre + 'tests/images/other/puppy/puppy-multi.tif'))\n",
    "test_eq(node.value, Path(pre + 'tests/images/other/puppy/puppy-multi.tif'))\n"
   ]
  },
  {
   "cell_type": "code",
   "execution_count": null,
   "metadata": {},
   "outputs": [],
   "source": [
    "app.tree.source = [Path(pre + 'tests/images/strip')]\n"
   ]
  },
  {
   "cell_type": "code",
   "execution_count": null,
   "metadata": {},
   "outputs": [],
   "source": [
    "app.tree.source = [Path(pre + 'tests/images/sqrt')]\n",
    "test_eq(app.value, {'select': ()})\n",
    "nodes = app.tree.nodes_of_value(Path(pre + 'tests/images/other/grid.png'))\n",
    "app.tree.value = nodes\n",
    "test_eq(app.value, {'select': ()})\n"
   ]
  },
  {
   "attachments": {},
   "cell_type": "markdown",
   "metadata": {},
   "source": [
    "## Colophon\n",
    " ----"
   ]
  },
  {
   "cell_type": "code",
   "execution_count": null,
   "metadata": {},
   "outputs": [],
   "source": [
    "import fastcore.all as F\n",
    "import nbdev; nbdev.nbdev_export('02_tree_widget.ipynb')"
   ]
  }
 ],
 "metadata": {
  "kernelspec": {
   "display_name": "python3",
   "language": "python",
   "name": "python3"
  }
 },
 "nbformat": 4,
 "nbformat_minor": 4
}
